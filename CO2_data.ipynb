{
 "cells": [
  {
   "cell_type": "code",
   "execution_count": 1,
   "id": "65d10c84",
   "metadata": {},
   "outputs": [],
   "source": [
    "import pandas as pd\n",
    "from datetime import datetime as dt"
   ]
  },
  {
   "cell_type": "markdown",
   "id": "cb29f1a2",
   "metadata": {},
   "source": [
    "### Store CSV into DataFrame"
   ]
  },
  {
   "cell_type": "code",
   "execution_count": 2,
   "id": "564ba55a",
   "metadata": {},
   "outputs": [
    {
     "data": {
      "text/html": [
       "<div>\n",
       "<style scoped>\n",
       "    .dataframe tbody tr th:only-of-type {\n",
       "        vertical-align: middle;\n",
       "    }\n",
       "\n",
       "    .dataframe tbody tr th {\n",
       "        vertical-align: top;\n",
       "    }\n",
       "\n",
       "    .dataframe thead th {\n",
       "        text-align: right;\n",
       "    }\n",
       "</style>\n",
       "<table border=\"1\" class=\"dataframe\">\n",
       "  <thead>\n",
       "    <tr style=\"text-align: right;\">\n",
       "      <th></th>\n",
       "      <th>REF_DATE</th>\n",
       "      <th>GEO</th>\n",
       "      <th>DGUID</th>\n",
       "      <th>Type of fuel</th>\n",
       "      <th>UOM</th>\n",
       "      <th>UOM_ID</th>\n",
       "      <th>SCALAR_FACTOR</th>\n",
       "      <th>SCALAR_ID</th>\n",
       "      <th>VECTOR</th>\n",
       "      <th>COORDINATE</th>\n",
       "      <th>VALUE</th>\n",
       "      <th>STATUS</th>\n",
       "      <th>SYMBOL</th>\n",
       "      <th>TERMINATED</th>\n",
       "      <th>DECIMALS</th>\n",
       "    </tr>\n",
       "  </thead>\n",
       "  <tbody>\n",
       "    <tr>\n",
       "      <th>0</th>\n",
       "      <td>1990-01</td>\n",
       "      <td>Québec, Quebec</td>\n",
       "      <td>2011S0503421</td>\n",
       "      <td>Regular unleaded gasoline at self service fill...</td>\n",
       "      <td>Cents per litre</td>\n",
       "      <td>57</td>\n",
       "      <td>units</td>\n",
       "      <td>0</td>\n",
       "      <td>v735095</td>\n",
       "      <td>6.2</td>\n",
       "      <td>58.3</td>\n",
       "      <td>NaN</td>\n",
       "      <td>NaN</td>\n",
       "      <td>NaN</td>\n",
       "      <td>1</td>\n",
       "    </tr>\n",
       "    <tr>\n",
       "      <th>1</th>\n",
       "      <td>1990-02</td>\n",
       "      <td>Québec, Quebec</td>\n",
       "      <td>2011S0503421</td>\n",
       "      <td>Regular unleaded gasoline at self service fill...</td>\n",
       "      <td>Cents per litre</td>\n",
       "      <td>57</td>\n",
       "      <td>units</td>\n",
       "      <td>0</td>\n",
       "      <td>v735095</td>\n",
       "      <td>6.2</td>\n",
       "      <td>58.9</td>\n",
       "      <td>NaN</td>\n",
       "      <td>NaN</td>\n",
       "      <td>NaN</td>\n",
       "      <td>1</td>\n",
       "    </tr>\n",
       "    <tr>\n",
       "      <th>2</th>\n",
       "      <td>1990-03</td>\n",
       "      <td>Québec, Quebec</td>\n",
       "      <td>2011S0503421</td>\n",
       "      <td>Regular unleaded gasoline at self service fill...</td>\n",
       "      <td>Cents per litre</td>\n",
       "      <td>57</td>\n",
       "      <td>units</td>\n",
       "      <td>0</td>\n",
       "      <td>v735095</td>\n",
       "      <td>6.2</td>\n",
       "      <td>59.5</td>\n",
       "      <td>NaN</td>\n",
       "      <td>NaN</td>\n",
       "      <td>NaN</td>\n",
       "      <td>1</td>\n",
       "    </tr>\n",
       "    <tr>\n",
       "      <th>3</th>\n",
       "      <td>1990-04</td>\n",
       "      <td>Québec, Quebec</td>\n",
       "      <td>2011S0503421</td>\n",
       "      <td>Regular unleaded gasoline at self service fill...</td>\n",
       "      <td>Cents per litre</td>\n",
       "      <td>57</td>\n",
       "      <td>units</td>\n",
       "      <td>0</td>\n",
       "      <td>v735095</td>\n",
       "      <td>6.2</td>\n",
       "      <td>60.3</td>\n",
       "      <td>NaN</td>\n",
       "      <td>NaN</td>\n",
       "      <td>NaN</td>\n",
       "      <td>1</td>\n",
       "    </tr>\n",
       "    <tr>\n",
       "      <th>4</th>\n",
       "      <td>1990-05</td>\n",
       "      <td>Québec, Quebec</td>\n",
       "      <td>2011S0503421</td>\n",
       "      <td>Regular unleaded gasoline at self service fill...</td>\n",
       "      <td>Cents per litre</td>\n",
       "      <td>57</td>\n",
       "      <td>units</td>\n",
       "      <td>0</td>\n",
       "      <td>v735095</td>\n",
       "      <td>6.2</td>\n",
       "      <td>60.4</td>\n",
       "      <td>NaN</td>\n",
       "      <td>NaN</td>\n",
       "      <td>NaN</td>\n",
       "      <td>1</td>\n",
       "    </tr>\n",
       "  </tbody>\n",
       "</table>\n",
       "</div>"
      ],
      "text/plain": [
       "  REF_DATE             GEO         DGUID  \\\n",
       "0  1990-01  Québec, Quebec  2011S0503421   \n",
       "1  1990-02  Québec, Quebec  2011S0503421   \n",
       "2  1990-03  Québec, Quebec  2011S0503421   \n",
       "3  1990-04  Québec, Quebec  2011S0503421   \n",
       "4  1990-05  Québec, Quebec  2011S0503421   \n",
       "\n",
       "                                        Type of fuel              UOM  UOM_ID  \\\n",
       "0  Regular unleaded gasoline at self service fill...  Cents per litre      57   \n",
       "1  Regular unleaded gasoline at self service fill...  Cents per litre      57   \n",
       "2  Regular unleaded gasoline at self service fill...  Cents per litre      57   \n",
       "3  Regular unleaded gasoline at self service fill...  Cents per litre      57   \n",
       "4  Regular unleaded gasoline at self service fill...  Cents per litre      57   \n",
       "\n",
       "  SCALAR_FACTOR  SCALAR_ID   VECTOR  COORDINATE  VALUE  STATUS  SYMBOL  \\\n",
       "0         units          0  v735095         6.2   58.3     NaN     NaN   \n",
       "1         units          0  v735095         6.2   58.9     NaN     NaN   \n",
       "2         units          0  v735095         6.2   59.5     NaN     NaN   \n",
       "3         units          0  v735095         6.2   60.3     NaN     NaN   \n",
       "4         units          0  v735095         6.2   60.4     NaN     NaN   \n",
       "\n",
       "   TERMINATED  DECIMALS  \n",
       "0         NaN         1  \n",
       "1         NaN         1  \n",
       "2         NaN         1  \n",
       "3         NaN         1  \n",
       "4         NaN         1  "
      ]
     },
     "execution_count": 2,
     "metadata": {},
     "output_type": "execute_result"
    }
   ],
   "source": [
    "csv_file = \"Resources/gas_prices.csv\"\n",
    "orig_gas_data_df = pd.read_csv(csv_file)\n",
    "orig_gas_data_df.head()"
   ]
  },
  {
   "cell_type": "markdown",
   "id": "46ee4965",
   "metadata": {},
   "source": [
    "### Create new data with select columns"
   ]
  },
  {
   "cell_type": "code",
   "execution_count": 3,
   "id": "91192f09",
   "metadata": {},
   "outputs": [
    {
     "data": {
      "text/html": [
       "<div>\n",
       "<style scoped>\n",
       "    .dataframe tbody tr th:only-of-type {\n",
       "        vertical-align: middle;\n",
       "    }\n",
       "\n",
       "    .dataframe tbody tr th {\n",
       "        vertical-align: top;\n",
       "    }\n",
       "\n",
       "    .dataframe thead th {\n",
       "        text-align: right;\n",
       "    }\n",
       "</style>\n",
       "<table border=\"1\" class=\"dataframe\">\n",
       "  <thead>\n",
       "    <tr style=\"text-align: right;\">\n",
       "      <th></th>\n",
       "      <th>REF_DATE</th>\n",
       "      <th>GEO</th>\n",
       "      <th>VALUE</th>\n",
       "    </tr>\n",
       "  </thead>\n",
       "  <tbody>\n",
       "    <tr>\n",
       "      <th>0</th>\n",
       "      <td>1990-01</td>\n",
       "      <td>Québec, Quebec</td>\n",
       "      <td>58.3</td>\n",
       "    </tr>\n",
       "    <tr>\n",
       "      <th>1</th>\n",
       "      <td>1990-02</td>\n",
       "      <td>Québec, Quebec</td>\n",
       "      <td>58.9</td>\n",
       "    </tr>\n",
       "    <tr>\n",
       "      <th>2</th>\n",
       "      <td>1990-03</td>\n",
       "      <td>Québec, Quebec</td>\n",
       "      <td>59.5</td>\n",
       "    </tr>\n",
       "    <tr>\n",
       "      <th>3</th>\n",
       "      <td>1990-04</td>\n",
       "      <td>Québec, Quebec</td>\n",
       "      <td>60.3</td>\n",
       "    </tr>\n",
       "    <tr>\n",
       "      <th>4</th>\n",
       "      <td>1990-05</td>\n",
       "      <td>Québec, Quebec</td>\n",
       "      <td>60.4</td>\n",
       "    </tr>\n",
       "  </tbody>\n",
       "</table>\n",
       "</div>"
      ],
      "text/plain": [
       "  REF_DATE             GEO  VALUE\n",
       "0  1990-01  Québec, Quebec   58.3\n",
       "1  1990-02  Québec, Quebec   58.9\n",
       "2  1990-03  Québec, Quebec   59.5\n",
       "3  1990-04  Québec, Quebec   60.3\n",
       "4  1990-05  Québec, Quebec   60.4"
      ]
     },
     "execution_count": 3,
     "metadata": {},
     "output_type": "execute_result"
    }
   ],
   "source": [
    "refined1_gas_data_df = orig_gas_data_df[['REF_DATE', 'GEO', 'VALUE']].copy()\n",
    "refined1_gas_data_df.head()"
   ]
  },
  {
   "cell_type": "code",
   "execution_count": 4,
   "id": "4913265e",
   "metadata": {},
   "outputs": [
    {
     "name": "stdout",
     "output_type": "stream",
     "text": [
      "<class 'pandas.core.frame.DataFrame'>\n",
      "RangeIndex: 3348 entries, 0 to 3347\n",
      "Data columns (total 3 columns):\n",
      " #   Column    Non-Null Count  Dtype  \n",
      "---  ------    --------------  -----  \n",
      " 0   REF_DATE  3348 non-null   object \n",
      " 1   GEO       3348 non-null   object \n",
      " 2   VALUE     3348 non-null   float64\n",
      "dtypes: float64(1), object(2)\n",
      "memory usage: 78.6+ KB\n"
     ]
    }
   ],
   "source": [
    "refined1_gas_data_df.info()"
   ]
  },
  {
   "cell_type": "code",
   "execution_count": 5,
   "id": "2f6eb910",
   "metadata": {},
   "outputs": [],
   "source": [
    "refined1_gas_data_df['REF_DATE'] = pd.to_datetime(refined1_gas_data_df['REF_DATE'])"
   ]
  },
  {
   "cell_type": "code",
   "execution_count": 6,
   "id": "b0acdbc6",
   "metadata": {},
   "outputs": [
    {
     "name": "stdout",
     "output_type": "stream",
     "text": [
      "<class 'pandas.core.frame.DataFrame'>\n",
      "RangeIndex: 3348 entries, 0 to 3347\n",
      "Data columns (total 3 columns):\n",
      " #   Column    Non-Null Count  Dtype         \n",
      "---  ------    --------------  -----         \n",
      " 0   REF_DATE  3348 non-null   datetime64[ns]\n",
      " 1   GEO       3348 non-null   object        \n",
      " 2   VALUE     3348 non-null   float64       \n",
      "dtypes: datetime64[ns](1), float64(1), object(1)\n",
      "memory usage: 78.6+ KB\n"
     ]
    }
   ],
   "source": [
    "refined1_gas_data_df.info()"
   ]
  },
  {
   "cell_type": "code",
   "execution_count": 7,
   "id": "e534f7d2",
   "metadata": {},
   "outputs": [],
   "source": [
    "refined1_gas_data_df[['City','Province']]=refined1_gas_data_df['GEO'].str.split(',', 1,expand=True)"
   ]
  },
  {
   "cell_type": "code",
   "execution_count": 8,
   "id": "ee70e63b",
   "metadata": {},
   "outputs": [
    {
     "data": {
      "text/html": [
       "<div>\n",
       "<style scoped>\n",
       "    .dataframe tbody tr th:only-of-type {\n",
       "        vertical-align: middle;\n",
       "    }\n",
       "\n",
       "    .dataframe tbody tr th {\n",
       "        vertical-align: top;\n",
       "    }\n",
       "\n",
       "    .dataframe thead th {\n",
       "        text-align: right;\n",
       "    }\n",
       "</style>\n",
       "<table border=\"1\" class=\"dataframe\">\n",
       "  <thead>\n",
       "    <tr style=\"text-align: right;\">\n",
       "      <th></th>\n",
       "      <th>REF_DATE</th>\n",
       "      <th>GEO</th>\n",
       "      <th>VALUE</th>\n",
       "      <th>City</th>\n",
       "      <th>Province</th>\n",
       "    </tr>\n",
       "  </thead>\n",
       "  <tbody>\n",
       "    <tr>\n",
       "      <th>0</th>\n",
       "      <td>1990-01-01</td>\n",
       "      <td>Québec, Quebec</td>\n",
       "      <td>58.3</td>\n",
       "      <td>Québec</td>\n",
       "      <td>Quebec</td>\n",
       "    </tr>\n",
       "    <tr>\n",
       "      <th>1</th>\n",
       "      <td>1990-02-01</td>\n",
       "      <td>Québec, Quebec</td>\n",
       "      <td>58.9</td>\n",
       "      <td>Québec</td>\n",
       "      <td>Quebec</td>\n",
       "    </tr>\n",
       "    <tr>\n",
       "      <th>2</th>\n",
       "      <td>1990-03-01</td>\n",
       "      <td>Québec, Quebec</td>\n",
       "      <td>59.5</td>\n",
       "      <td>Québec</td>\n",
       "      <td>Quebec</td>\n",
       "    </tr>\n",
       "    <tr>\n",
       "      <th>3</th>\n",
       "      <td>1990-04-01</td>\n",
       "      <td>Québec, Quebec</td>\n",
       "      <td>60.3</td>\n",
       "      <td>Québec</td>\n",
       "      <td>Quebec</td>\n",
       "    </tr>\n",
       "    <tr>\n",
       "      <th>4</th>\n",
       "      <td>1990-05-01</td>\n",
       "      <td>Québec, Quebec</td>\n",
       "      <td>60.4</td>\n",
       "      <td>Québec</td>\n",
       "      <td>Quebec</td>\n",
       "    </tr>\n",
       "  </tbody>\n",
       "</table>\n",
       "</div>"
      ],
      "text/plain": [
       "    REF_DATE             GEO  VALUE    City Province\n",
       "0 1990-01-01  Québec, Quebec   58.3  Québec   Quebec\n",
       "1 1990-02-01  Québec, Quebec   58.9  Québec   Quebec\n",
       "2 1990-03-01  Québec, Quebec   59.5  Québec   Quebec\n",
       "3 1990-04-01  Québec, Quebec   60.3  Québec   Quebec\n",
       "4 1990-05-01  Québec, Quebec   60.4  Québec   Quebec"
      ]
     },
     "execution_count": 8,
     "metadata": {},
     "output_type": "execute_result"
    }
   ],
   "source": [
    "refined1_gas_data_df.head()"
   ]
  },
  {
   "cell_type": "code",
   "execution_count": 9,
   "id": "3c36270a",
   "metadata": {},
   "outputs": [],
   "source": [
    "refined1_gas_data_df['Year'] = pd.DatetimeIndex(refined1_gas_data_df['REF_DATE']).year"
   ]
  },
  {
   "cell_type": "code",
   "execution_count": 10,
   "id": "b54693f4",
   "metadata": {},
   "outputs": [
    {
     "data": {
      "text/html": [
       "<div>\n",
       "<style scoped>\n",
       "    .dataframe tbody tr th:only-of-type {\n",
       "        vertical-align: middle;\n",
       "    }\n",
       "\n",
       "    .dataframe tbody tr th {\n",
       "        vertical-align: top;\n",
       "    }\n",
       "\n",
       "    .dataframe thead th {\n",
       "        text-align: right;\n",
       "    }\n",
       "</style>\n",
       "<table border=\"1\" class=\"dataframe\">\n",
       "  <thead>\n",
       "    <tr style=\"text-align: right;\">\n",
       "      <th></th>\n",
       "      <th>REF_DATE</th>\n",
       "      <th>GEO</th>\n",
       "      <th>VALUE</th>\n",
       "      <th>City</th>\n",
       "      <th>Province</th>\n",
       "      <th>Year</th>\n",
       "    </tr>\n",
       "  </thead>\n",
       "  <tbody>\n",
       "    <tr>\n",
       "      <th>0</th>\n",
       "      <td>1990-01-01</td>\n",
       "      <td>Québec, Quebec</td>\n",
       "      <td>58.3</td>\n",
       "      <td>Québec</td>\n",
       "      <td>Quebec</td>\n",
       "      <td>1990</td>\n",
       "    </tr>\n",
       "    <tr>\n",
       "      <th>1</th>\n",
       "      <td>1990-02-01</td>\n",
       "      <td>Québec, Quebec</td>\n",
       "      <td>58.9</td>\n",
       "      <td>Québec</td>\n",
       "      <td>Quebec</td>\n",
       "      <td>1990</td>\n",
       "    </tr>\n",
       "    <tr>\n",
       "      <th>2</th>\n",
       "      <td>1990-03-01</td>\n",
       "      <td>Québec, Quebec</td>\n",
       "      <td>59.5</td>\n",
       "      <td>Québec</td>\n",
       "      <td>Quebec</td>\n",
       "      <td>1990</td>\n",
       "    </tr>\n",
       "    <tr>\n",
       "      <th>3</th>\n",
       "      <td>1990-04-01</td>\n",
       "      <td>Québec, Quebec</td>\n",
       "      <td>60.3</td>\n",
       "      <td>Québec</td>\n",
       "      <td>Quebec</td>\n",
       "      <td>1990</td>\n",
       "    </tr>\n",
       "    <tr>\n",
       "      <th>4</th>\n",
       "      <td>1990-05-01</td>\n",
       "      <td>Québec, Quebec</td>\n",
       "      <td>60.4</td>\n",
       "      <td>Québec</td>\n",
       "      <td>Quebec</td>\n",
       "      <td>1990</td>\n",
       "    </tr>\n",
       "  </tbody>\n",
       "</table>\n",
       "</div>"
      ],
      "text/plain": [
       "    REF_DATE             GEO  VALUE    City Province  Year\n",
       "0 1990-01-01  Québec, Quebec   58.3  Québec   Quebec  1990\n",
       "1 1990-02-01  Québec, Quebec   58.9  Québec   Quebec  1990\n",
       "2 1990-03-01  Québec, Quebec   59.5  Québec   Quebec  1990\n",
       "3 1990-04-01  Québec, Quebec   60.3  Québec   Quebec  1990\n",
       "4 1990-05-01  Québec, Quebec   60.4  Québec   Quebec  1990"
      ]
     },
     "execution_count": 10,
     "metadata": {},
     "output_type": "execute_result"
    }
   ],
   "source": [
    "refined1_gas_data_df.head()"
   ]
  },
  {
   "cell_type": "code",
   "execution_count": 11,
   "id": "b314fb4e",
   "metadata": {},
   "outputs": [],
   "source": [
    "refined2_gas_data_df = refined1_gas_data_df.drop(labels=['REF_DATE','GEO','City'], axis=1)"
   ]
  },
  {
   "cell_type": "code",
   "execution_count": 12,
   "id": "e8830243",
   "metadata": {},
   "outputs": [
    {
     "data": {
      "text/html": [
       "<div>\n",
       "<style scoped>\n",
       "    .dataframe tbody tr th:only-of-type {\n",
       "        vertical-align: middle;\n",
       "    }\n",
       "\n",
       "    .dataframe tbody tr th {\n",
       "        vertical-align: top;\n",
       "    }\n",
       "\n",
       "    .dataframe thead th {\n",
       "        text-align: right;\n",
       "    }\n",
       "</style>\n",
       "<table border=\"1\" class=\"dataframe\">\n",
       "  <thead>\n",
       "    <tr style=\"text-align: right;\">\n",
       "      <th></th>\n",
       "      <th>VALUE</th>\n",
       "      <th>Province</th>\n",
       "      <th>Year</th>\n",
       "    </tr>\n",
       "  </thead>\n",
       "  <tbody>\n",
       "    <tr>\n",
       "      <th>0</th>\n",
       "      <td>58.3</td>\n",
       "      <td>Quebec</td>\n",
       "      <td>1990</td>\n",
       "    </tr>\n",
       "    <tr>\n",
       "      <th>1</th>\n",
       "      <td>58.9</td>\n",
       "      <td>Quebec</td>\n",
       "      <td>1990</td>\n",
       "    </tr>\n",
       "    <tr>\n",
       "      <th>2</th>\n",
       "      <td>59.5</td>\n",
       "      <td>Quebec</td>\n",
       "      <td>1990</td>\n",
       "    </tr>\n",
       "    <tr>\n",
       "      <th>3</th>\n",
       "      <td>60.3</td>\n",
       "      <td>Quebec</td>\n",
       "      <td>1990</td>\n",
       "    </tr>\n",
       "    <tr>\n",
       "      <th>4</th>\n",
       "      <td>60.4</td>\n",
       "      <td>Quebec</td>\n",
       "      <td>1990</td>\n",
       "    </tr>\n",
       "  </tbody>\n",
       "</table>\n",
       "</div>"
      ],
      "text/plain": [
       "   VALUE Province  Year\n",
       "0   58.3   Quebec  1990\n",
       "1   58.9   Quebec  1990\n",
       "2   59.5   Quebec  1990\n",
       "3   60.3   Quebec  1990\n",
       "4   60.4   Quebec  1990"
      ]
     },
     "execution_count": 12,
     "metadata": {},
     "output_type": "execute_result"
    }
   ],
   "source": [
    "refined2_gas_data_df.head()"
   ]
  },
  {
   "cell_type": "code",
   "execution_count": 13,
   "id": "c8405cee",
   "metadata": {},
   "outputs": [],
   "source": [
    "renamed_col_gas_data_df=refined2_gas_data_df.rename(columns={'VALUE':'Price'})"
   ]
  },
  {
   "cell_type": "code",
   "execution_count": 14,
   "id": "b3c73b3a",
   "metadata": {},
   "outputs": [
    {
     "name": "stdout",
     "output_type": "stream",
     "text": [
      "<class 'pandas.core.frame.DataFrame'>\n",
      "RangeIndex: 3348 entries, 0 to 3347\n",
      "Data columns (total 3 columns):\n",
      " #   Column    Non-Null Count  Dtype  \n",
      "---  ------    --------------  -----  \n",
      " 0   Price     3348 non-null   float64\n",
      " 1   Province  3348 non-null   object \n",
      " 2   Year      3348 non-null   int64  \n",
      "dtypes: float64(1), int64(1), object(1)\n",
      "memory usage: 78.6+ KB\n"
     ]
    }
   ],
   "source": [
    "renamed_col_gas_data_df.info()"
   ]
  },
  {
   "cell_type": "code",
   "execution_count": 15,
   "id": "1dde03c0",
   "metadata": {},
   "outputs": [],
   "source": [
    "#Change order of columns\n",
    "column_names = ['Year','Province','Price']\n",
    "gas_prices_df=renamed_col_gas_data_df.reindex(columns=column_names)"
   ]
  },
  {
   "cell_type": "code",
   "execution_count": 16,
   "id": "d53d57b4",
   "metadata": {
    "scrolled": true
   },
   "outputs": [
    {
     "data": {
      "text/html": [
       "<div>\n",
       "<style scoped>\n",
       "    .dataframe tbody tr th:only-of-type {\n",
       "        vertical-align: middle;\n",
       "    }\n",
       "\n",
       "    .dataframe tbody tr th {\n",
       "        vertical-align: top;\n",
       "    }\n",
       "\n",
       "    .dataframe thead th {\n",
       "        text-align: right;\n",
       "    }\n",
       "</style>\n",
       "<table border=\"1\" class=\"dataframe\">\n",
       "  <thead>\n",
       "    <tr style=\"text-align: right;\">\n",
       "      <th></th>\n",
       "      <th>Year</th>\n",
       "      <th>Province</th>\n",
       "      <th>Price</th>\n",
       "    </tr>\n",
       "  </thead>\n",
       "  <tbody>\n",
       "    <tr>\n",
       "      <th>0</th>\n",
       "      <td>1990</td>\n",
       "      <td>Quebec</td>\n",
       "      <td>58.3</td>\n",
       "    </tr>\n",
       "    <tr>\n",
       "      <th>1</th>\n",
       "      <td>1990</td>\n",
       "      <td>Quebec</td>\n",
       "      <td>58.9</td>\n",
       "    </tr>\n",
       "    <tr>\n",
       "      <th>2</th>\n",
       "      <td>1990</td>\n",
       "      <td>Quebec</td>\n",
       "      <td>59.5</td>\n",
       "    </tr>\n",
       "    <tr>\n",
       "      <th>3</th>\n",
       "      <td>1990</td>\n",
       "      <td>Quebec</td>\n",
       "      <td>60.3</td>\n",
       "    </tr>\n",
       "    <tr>\n",
       "      <th>4</th>\n",
       "      <td>1990</td>\n",
       "      <td>Quebec</td>\n",
       "      <td>60.4</td>\n",
       "    </tr>\n",
       "  </tbody>\n",
       "</table>\n",
       "</div>"
      ],
      "text/plain": [
       "   Year Province  Price\n",
       "0  1990   Quebec   58.3\n",
       "1  1990   Quebec   58.9\n",
       "2  1990   Quebec   59.5\n",
       "3  1990   Quebec   60.3\n",
       "4  1990   Quebec   60.4"
      ]
     },
     "execution_count": 16,
     "metadata": {},
     "output_type": "execute_result"
    }
   ],
   "source": [
    "gas_prices_df.head()"
   ]
  },
  {
   "cell_type": "code",
   "execution_count": 17,
   "id": "56793858",
   "metadata": {},
   "outputs": [],
   "source": [
    "clean_gas_prices_df = gas_prices_df[~gas_prices_df.Province.str.contains(\"Ontario part, Ontario/Quebec\")]"
   ]
  },
  {
   "cell_type": "code",
   "execution_count": 18,
   "id": "5e9e0c4c",
   "metadata": {
    "scrolled": true
   },
   "outputs": [
    {
     "data": {
      "text/html": [
       "<div>\n",
       "<style scoped>\n",
       "    .dataframe tbody tr th:only-of-type {\n",
       "        vertical-align: middle;\n",
       "    }\n",
       "\n",
       "    .dataframe tbody tr th {\n",
       "        vertical-align: top;\n",
       "    }\n",
       "\n",
       "    .dataframe thead th {\n",
       "        text-align: right;\n",
       "    }\n",
       "</style>\n",
       "<table border=\"1\" class=\"dataframe\">\n",
       "  <thead>\n",
       "    <tr style=\"text-align: right;\">\n",
       "      <th></th>\n",
       "      <th>Year</th>\n",
       "      <th>Province</th>\n",
       "      <th>Price</th>\n",
       "    </tr>\n",
       "  </thead>\n",
       "  <tbody>\n",
       "    <tr>\n",
       "      <th>0</th>\n",
       "      <td>1990</td>\n",
       "      <td>Quebec</td>\n",
       "      <td>58.3</td>\n",
       "    </tr>\n",
       "    <tr>\n",
       "      <th>1</th>\n",
       "      <td>1990</td>\n",
       "      <td>Quebec</td>\n",
       "      <td>58.9</td>\n",
       "    </tr>\n",
       "    <tr>\n",
       "      <th>2</th>\n",
       "      <td>1990</td>\n",
       "      <td>Quebec</td>\n",
       "      <td>59.5</td>\n",
       "    </tr>\n",
       "    <tr>\n",
       "      <th>3</th>\n",
       "      <td>1990</td>\n",
       "      <td>Quebec</td>\n",
       "      <td>60.3</td>\n",
       "    </tr>\n",
       "    <tr>\n",
       "      <th>4</th>\n",
       "      <td>1990</td>\n",
       "      <td>Quebec</td>\n",
       "      <td>60.4</td>\n",
       "    </tr>\n",
       "  </tbody>\n",
       "</table>\n",
       "</div>"
      ],
      "text/plain": [
       "   Year Province  Price\n",
       "0  1990   Quebec   58.3\n",
       "1  1990   Quebec   58.9\n",
       "2  1990   Quebec   59.5\n",
       "3  1990   Quebec   60.3\n",
       "4  1990   Quebec   60.4"
      ]
     },
     "execution_count": 18,
     "metadata": {},
     "output_type": "execute_result"
    }
   ],
   "source": [
    "clean_gas_prices_df.head()"
   ]
  },
  {
   "cell_type": "code",
   "execution_count": 19,
   "id": "cbeb6f61",
   "metadata": {},
   "outputs": [],
   "source": [
    "groupby_year_data_df = clean_gas_prices_df[['Year','Province','Price']].groupby(['Year','Province'], as_index=False).agg('mean')"
   ]
  },
  {
   "cell_type": "code",
   "execution_count": 20,
   "id": "21708f10",
   "metadata": {
    "scrolled": true
   },
   "outputs": [
    {
     "data": {
      "text/html": [
       "<div>\n",
       "<style scoped>\n",
       "    .dataframe tbody tr th:only-of-type {\n",
       "        vertical-align: middle;\n",
       "    }\n",
       "\n",
       "    .dataframe tbody tr th {\n",
       "        vertical-align: top;\n",
       "    }\n",
       "\n",
       "    .dataframe thead th {\n",
       "        text-align: right;\n",
       "    }\n",
       "</style>\n",
       "<table border=\"1\" class=\"dataframe\">\n",
       "  <thead>\n",
       "    <tr style=\"text-align: right;\">\n",
       "      <th></th>\n",
       "      <th>Year</th>\n",
       "      <th>Province</th>\n",
       "      <th>Price</th>\n",
       "    </tr>\n",
       "  </thead>\n",
       "  <tbody>\n",
       "    <tr>\n",
       "      <th>0</th>\n",
       "      <td>1990</td>\n",
       "      <td>Alberta</td>\n",
       "      <td>53.895833</td>\n",
       "    </tr>\n",
       "    <tr>\n",
       "      <th>1</th>\n",
       "      <td>1990</td>\n",
       "      <td>British Columbia</td>\n",
       "      <td>60.766667</td>\n",
       "    </tr>\n",
       "    <tr>\n",
       "      <th>2</th>\n",
       "      <td>1990</td>\n",
       "      <td>Ontario</td>\n",
       "      <td>57.591667</td>\n",
       "    </tr>\n",
       "    <tr>\n",
       "      <th>3</th>\n",
       "      <td>1990</td>\n",
       "      <td>Quebec</td>\n",
       "      <td>62.616667</td>\n",
       "    </tr>\n",
       "    <tr>\n",
       "      <th>4</th>\n",
       "      <td>1991</td>\n",
       "      <td>Alberta</td>\n",
       "      <td>50.141667</td>\n",
       "    </tr>\n",
       "  </tbody>\n",
       "</table>\n",
       "</div>"
      ],
      "text/plain": [
       "   Year           Province      Price\n",
       "0  1990            Alberta  53.895833\n",
       "1  1990   British Columbia  60.766667\n",
       "2  1990            Ontario  57.591667\n",
       "3  1990             Quebec  62.616667\n",
       "4  1991            Alberta  50.141667"
      ]
     },
     "execution_count": 20,
     "metadata": {},
     "output_type": "execute_result"
    }
   ],
   "source": [
    "groupby_year_data_df.head()"
   ]
  },
  {
   "cell_type": "code",
   "execution_count": 21,
   "id": "83e2dfd8",
   "metadata": {},
   "outputs": [],
   "source": [
    "# Export file as a CSV, without the Pandas index, but with the header\n",
    "clean_gas_prices_df.to_csv(\"Data/clean_gas_prices.csv\", index=False, header=True)"
   ]
  },
  {
   "cell_type": "code",
   "execution_count": null,
   "id": "9f0d4335",
   "metadata": {},
   "outputs": [],
   "source": []
  }
 ],
 "metadata": {
  "kernelspec": {
   "display_name": "Python 3",
   "language": "python",
   "name": "python3"
  },
  "language_info": {
   "codemirror_mode": {
    "name": "ipython",
    "version": 3
   },
   "file_extension": ".py",
   "mimetype": "text/x-python",
   "name": "python",
   "nbconvert_exporter": "python",
   "pygments_lexer": "ipython3",
   "version": "3.6.13"
  }
 },
 "nbformat": 4,
 "nbformat_minor": 5
}
