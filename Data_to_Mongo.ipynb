{
 "cells": [
  {
   "cell_type": "code",
   "execution_count": 1,
   "metadata": {},
   "outputs": [],
   "source": [
    "# Module used to connect Python with MongoDb\n",
    "import pymongo\n",
    "import sys\n",
    "import pandas as pd\n",
    "import json\n",
    "import matplotlib.pyplot as plt\n",
    "import matplotlib.ticker as ticker\n",
    "from matplotlib.ticker import (MultipleLocator, AutoMinorLocator)\n",
    "import numpy as np"
   ]
  },
  {
   "cell_type": "markdown",
   "metadata": {},
   "source": [
    "### Create Database Connection\n",
    "### Load Data into Database"
   ]
  },
  {
   "cell_type": "code",
   "execution_count": 2,
   "metadata": {},
   "outputs": [
    {
     "data": {
      "text/plain": [
       "<pymongo.results.InsertManyResult at 0x7f9902b95ac8>"
      ]
     },
     "execution_count": 2,
     "metadata": {},
     "output_type": "execute_result"
    }
   ],
   "source": [
    "# The default port used by MongoDB is 27017  (removes any items already there, then inserts new data)\n",
    "mng_client = pymongo.MongoClient('localhost', 27017)\n",
    "\n",
    "# Replaces the mongo db name\n",
    "mng_db = mng_client['CO2']\n",
    "\n",
    "# Replace mongo db collection name\n",
    "collection_name = 'gas_prices' \n",
    "mng_col = mng_db[collection_name]\n",
    "\n",
    "# Get csv\n",
    "csv_file_gas_prices = \"Data/clean_gas_prices.csv\"\n",
    "data_gp = pd.read_csv(csv_file_gas_prices)\n",
    "data_gp_json = json.loads(data_gp.to_json(orient='records'))\n",
    "mng_col.delete_many({})\n",
    "mng_col.insert_many(data_gp_json)\n"
   ]
  },
  {
   "cell_type": "code",
   "execution_count": 6,
   "metadata": {
    "scrolled": true
   },
   "outputs": [
    {
     "data": {
      "text/plain": [
       "<pymongo.results.InsertManyResult at 0x7f98f0e265c8>"
      ]
     },
     "execution_count": 6,
     "metadata": {},
     "output_type": "execute_result"
    }
   ],
   "source": [
    "# Replace mongo db collection name (removes any items already there, then inserts new data)\n",
    "collection_name = 'emission_data' \n",
    "mng_col2 = mng_db[collection_name]\n",
    "\n",
    "# Get csv\n",
    "csv_file_emission = \"Data/clean_emission_data.csv\"\n",
    "data_ed = pd.read_csv(csv_file_emission)\n",
    "data_ged_json = json.loads(data_ed.to_json(orient='records'))\n",
    "mng_col2.delete_many({})\n",
    "mng_col2.insert_many(data_ged_json)"
   ]
  },
  {
   "cell_type": "markdown",
   "metadata": {},
   "source": [
    "### QUERIES:   - get data for visualizations - seperate out tables by Province, to add in the emissions"
   ]
  },
  {
   "cell_type": "markdown",
   "metadata": {},
   "source": [
    "- seperate out tables by Province, to add in the emissions later"
   ]
  },
  {
   "cell_type": "code",
   "execution_count": 37,
   "metadata": {},
   "outputs": [
    {
     "data": {
      "text/html": [
       "<div>\n",
       "<style scoped>\n",
       "    .dataframe tbody tr th:only-of-type {\n",
       "        vertical-align: middle;\n",
       "    }\n",
       "\n",
       "    .dataframe tbody tr th {\n",
       "        vertical-align: top;\n",
       "    }\n",
       "\n",
       "    .dataframe thead th {\n",
       "        text-align: right;\n",
       "    }\n",
       "</style>\n",
       "<table border=\"1\" class=\"dataframe\">\n",
       "  <thead>\n",
       "    <tr style=\"text-align: right;\">\n",
       "      <th></th>\n",
       "      <th>_id</th>\n",
       "      <th>Year</th>\n",
       "      <th>Province</th>\n",
       "      <th>Price</th>\n",
       "    </tr>\n",
       "  </thead>\n",
       "  <tbody>\n",
       "    <tr>\n",
       "      <th>0</th>\n",
       "      <td>618aa8e2da36f8938f0549e0</td>\n",
       "      <td>1990</td>\n",
       "      <td>Ontario</td>\n",
       "      <td>57.591667</td>\n",
       "    </tr>\n",
       "    <tr>\n",
       "      <th>1</th>\n",
       "      <td>618aa8e2da36f8938f0549e4</td>\n",
       "      <td>1991</td>\n",
       "      <td>Ontario</td>\n",
       "      <td>56.308333</td>\n",
       "    </tr>\n",
       "    <tr>\n",
       "      <th>2</th>\n",
       "      <td>618aa8e2da36f8938f0549e8</td>\n",
       "      <td>1992</td>\n",
       "      <td>Ontario</td>\n",
       "      <td>54.825000</td>\n",
       "    </tr>\n",
       "    <tr>\n",
       "      <th>3</th>\n",
       "      <td>618aa8e2da36f8938f0549ec</td>\n",
       "      <td>1993</td>\n",
       "      <td>Ontario</td>\n",
       "      <td>53.837500</td>\n",
       "    </tr>\n",
       "    <tr>\n",
       "      <th>4</th>\n",
       "      <td>618aa8e2da36f8938f0549f0</td>\n",
       "      <td>1994</td>\n",
       "      <td>Ontario</td>\n",
       "      <td>53.025000</td>\n",
       "    </tr>\n",
       "  </tbody>\n",
       "</table>\n",
       "</div>"
      ],
      "text/plain": [
       "                        _id  Year Province      Price\n",
       "0  618aa8e2da36f8938f0549e0  1990  Ontario  57.591667\n",
       "1  618aa8e2da36f8938f0549e4  1991  Ontario  56.308333\n",
       "2  618aa8e2da36f8938f0549e8  1992  Ontario  54.825000\n",
       "3  618aa8e2da36f8938f0549ec  1993  Ontario  53.837500\n",
       "4  618aa8e2da36f8938f0549f0  1994  Ontario  53.025000"
      ]
     },
     "execution_count": 37,
     "metadata": {},
     "output_type": "execute_result"
    }
   ],
   "source": [
    "#Get Ontario Data List as DataFrame\n",
    "collection = mng_db.gas_prices\n",
    "ont_col = pd.DataFrame(list(mng_db.gas_prices.find({'Province':'Ontario'})))\n",
    "ont_col.head()"
   ]
  },
  {
   "cell_type": "code",
   "execution_count": 38,
   "metadata": {},
   "outputs": [
    {
     "data": {
      "text/html": [
       "<div>\n",
       "<style scoped>\n",
       "    .dataframe tbody tr th:only-of-type {\n",
       "        vertical-align: middle;\n",
       "    }\n",
       "\n",
       "    .dataframe tbody tr th {\n",
       "        vertical-align: top;\n",
       "    }\n",
       "\n",
       "    .dataframe thead th {\n",
       "        text-align: right;\n",
       "    }\n",
       "</style>\n",
       "<table border=\"1\" class=\"dataframe\">\n",
       "  <thead>\n",
       "    <tr style=\"text-align: right;\">\n",
       "      <th></th>\n",
       "      <th>_id</th>\n",
       "      <th>Year</th>\n",
       "      <th>Province</th>\n",
       "      <th>Price</th>\n",
       "    </tr>\n",
       "  </thead>\n",
       "  <tbody>\n",
       "    <tr>\n",
       "      <th>0</th>\n",
       "      <td>618aa8e2da36f8938f0549df</td>\n",
       "      <td>1990</td>\n",
       "      <td>British Columbia</td>\n",
       "      <td>60.766667</td>\n",
       "    </tr>\n",
       "    <tr>\n",
       "      <th>1</th>\n",
       "      <td>618aa8e2da36f8938f0549e3</td>\n",
       "      <td>1991</td>\n",
       "      <td>British Columbia</td>\n",
       "      <td>58.025000</td>\n",
       "    </tr>\n",
       "    <tr>\n",
       "      <th>2</th>\n",
       "      <td>618aa8e2da36f8938f0549e7</td>\n",
       "      <td>1992</td>\n",
       "      <td>British Columbia</td>\n",
       "      <td>52.970833</td>\n",
       "    </tr>\n",
       "    <tr>\n",
       "      <th>3</th>\n",
       "      <td>618aa8e2da36f8938f0549eb</td>\n",
       "      <td>1993</td>\n",
       "      <td>British Columbia</td>\n",
       "      <td>52.875000</td>\n",
       "    </tr>\n",
       "    <tr>\n",
       "      <th>4</th>\n",
       "      <td>618aa8e2da36f8938f0549ef</td>\n",
       "      <td>1994</td>\n",
       "      <td>British Columbia</td>\n",
       "      <td>53.712500</td>\n",
       "    </tr>\n",
       "  </tbody>\n",
       "</table>\n",
       "</div>"
      ],
      "text/plain": [
       "                        _id  Year          Province      Price\n",
       "0  618aa8e2da36f8938f0549df  1990  British Columbia  60.766667\n",
       "1  618aa8e2da36f8938f0549e3  1991  British Columbia  58.025000\n",
       "2  618aa8e2da36f8938f0549e7  1992  British Columbia  52.970833\n",
       "3  618aa8e2da36f8938f0549eb  1993  British Columbia  52.875000\n",
       "4  618aa8e2da36f8938f0549ef  1994  British Columbia  53.712500"
      ]
     },
     "execution_count": 38,
     "metadata": {},
     "output_type": "execute_result"
    }
   ],
   "source": [
    "#Get BC Data List as DataFrame\n",
    "bc_col = pd.DataFrame(list(mng_db.gas_prices.find({'Province':'British Columbia'})))\n",
    "bc_col.head()"
   ]
  },
  {
   "cell_type": "code",
   "execution_count": 39,
   "metadata": {},
   "outputs": [
    {
     "data": {
      "text/html": [
       "<div>\n",
       "<style scoped>\n",
       "    .dataframe tbody tr th:only-of-type {\n",
       "        vertical-align: middle;\n",
       "    }\n",
       "\n",
       "    .dataframe tbody tr th {\n",
       "        vertical-align: top;\n",
       "    }\n",
       "\n",
       "    .dataframe thead th {\n",
       "        text-align: right;\n",
       "    }\n",
       "</style>\n",
       "<table border=\"1\" class=\"dataframe\">\n",
       "  <thead>\n",
       "    <tr style=\"text-align: right;\">\n",
       "      <th></th>\n",
       "      <th>_id</th>\n",
       "      <th>Year</th>\n",
       "      <th>Province</th>\n",
       "      <th>Price</th>\n",
       "    </tr>\n",
       "  </thead>\n",
       "  <tbody>\n",
       "    <tr>\n",
       "      <th>0</th>\n",
       "      <td>618aa8e2da36f8938f0549de</td>\n",
       "      <td>1990</td>\n",
       "      <td>Alberta</td>\n",
       "      <td>53.895833</td>\n",
       "    </tr>\n",
       "    <tr>\n",
       "      <th>1</th>\n",
       "      <td>618aa8e2da36f8938f0549e2</td>\n",
       "      <td>1991</td>\n",
       "      <td>Alberta</td>\n",
       "      <td>50.141667</td>\n",
       "    </tr>\n",
       "    <tr>\n",
       "      <th>2</th>\n",
       "      <td>618aa8e2da36f8938f0549e6</td>\n",
       "      <td>1992</td>\n",
       "      <td>Alberta</td>\n",
       "      <td>47.083333</td>\n",
       "    </tr>\n",
       "    <tr>\n",
       "      <th>3</th>\n",
       "      <td>618aa8e2da36f8938f0549ea</td>\n",
       "      <td>1993</td>\n",
       "      <td>Alberta</td>\n",
       "      <td>46.500000</td>\n",
       "    </tr>\n",
       "    <tr>\n",
       "      <th>4</th>\n",
       "      <td>618aa8e2da36f8938f0549ee</td>\n",
       "      <td>1994</td>\n",
       "      <td>Alberta</td>\n",
       "      <td>46.400000</td>\n",
       "    </tr>\n",
       "  </tbody>\n",
       "</table>\n",
       "</div>"
      ],
      "text/plain": [
       "                        _id  Year Province      Price\n",
       "0  618aa8e2da36f8938f0549de  1990  Alberta  53.895833\n",
       "1  618aa8e2da36f8938f0549e2  1991  Alberta  50.141667\n",
       "2  618aa8e2da36f8938f0549e6  1992  Alberta  47.083333\n",
       "3  618aa8e2da36f8938f0549ea  1993  Alberta  46.500000\n",
       "4  618aa8e2da36f8938f0549ee  1994  Alberta  46.400000"
      ]
     },
     "execution_count": 39,
     "metadata": {},
     "output_type": "execute_result"
    }
   ],
   "source": [
    "#Get Alberta Data List as DataFrame\n",
    "alb_col = pd.DataFrame(list(mng_db.gas_prices.find({'Province':'Alberta'})))\n",
    "alb_col.head()"
   ]
  },
  {
   "cell_type": "code",
   "execution_count": 40,
   "metadata": {},
   "outputs": [
    {
     "data": {
      "text/html": [
       "<div>\n",
       "<style scoped>\n",
       "    .dataframe tbody tr th:only-of-type {\n",
       "        vertical-align: middle;\n",
       "    }\n",
       "\n",
       "    .dataframe tbody tr th {\n",
       "        vertical-align: top;\n",
       "    }\n",
       "\n",
       "    .dataframe thead th {\n",
       "        text-align: right;\n",
       "    }\n",
       "</style>\n",
       "<table border=\"1\" class=\"dataframe\">\n",
       "  <thead>\n",
       "    <tr style=\"text-align: right;\">\n",
       "      <th></th>\n",
       "      <th>_id</th>\n",
       "      <th>Year</th>\n",
       "      <th>Province</th>\n",
       "      <th>Price</th>\n",
       "    </tr>\n",
       "  </thead>\n",
       "  <tbody>\n",
       "    <tr>\n",
       "      <th>0</th>\n",
       "      <td>618aa8e2da36f8938f0549e1</td>\n",
       "      <td>1990</td>\n",
       "      <td>Quebec</td>\n",
       "      <td>62.616667</td>\n",
       "    </tr>\n",
       "    <tr>\n",
       "      <th>1</th>\n",
       "      <td>618aa8e2da36f8938f0549e5</td>\n",
       "      <td>1991</td>\n",
       "      <td>Quebec</td>\n",
       "      <td>64.279167</td>\n",
       "    </tr>\n",
       "    <tr>\n",
       "      <th>2</th>\n",
       "      <td>618aa8e2da36f8938f0549e9</td>\n",
       "      <td>1992</td>\n",
       "      <td>Quebec</td>\n",
       "      <td>60.658333</td>\n",
       "    </tr>\n",
       "    <tr>\n",
       "      <th>3</th>\n",
       "      <td>618aa8e2da36f8938f0549ed</td>\n",
       "      <td>1993</td>\n",
       "      <td>Quebec</td>\n",
       "      <td>58.241667</td>\n",
       "    </tr>\n",
       "    <tr>\n",
       "      <th>4</th>\n",
       "      <td>618aa8e2da36f8938f0549f1</td>\n",
       "      <td>1994</td>\n",
       "      <td>Quebec</td>\n",
       "      <td>55.941667</td>\n",
       "    </tr>\n",
       "  </tbody>\n",
       "</table>\n",
       "</div>"
      ],
      "text/plain": [
       "                        _id  Year Province      Price\n",
       "0  618aa8e2da36f8938f0549e1  1990   Quebec  62.616667\n",
       "1  618aa8e2da36f8938f0549e5  1991   Quebec  64.279167\n",
       "2  618aa8e2da36f8938f0549e9  1992   Quebec  60.658333\n",
       "3  618aa8e2da36f8938f0549ed  1993   Quebec  58.241667\n",
       "4  618aa8e2da36f8938f0549f1  1994   Quebec  55.941667"
      ]
     },
     "execution_count": 40,
     "metadata": {},
     "output_type": "execute_result"
    }
   ],
   "source": [
    "#Get Quebec Data List as DataFrame\n",
    "qc_col = pd.DataFrame(list(mng_db.gas_prices.find({'Province':'Quebec'})))\n",
    "qc_col.head()"
   ]
  },
  {
   "cell_type": "markdown",
   "metadata": {},
   "source": [
    "- get the emission data\n",
    "- to merge provincial data with emissions"
   ]
  },
  {
   "cell_type": "code",
   "execution_count": 41,
   "metadata": {},
   "outputs": [
    {
     "data": {
      "text/html": [
       "<div>\n",
       "<style scoped>\n",
       "    .dataframe tbody tr th:only-of-type {\n",
       "        vertical-align: middle;\n",
       "    }\n",
       "\n",
       "    .dataframe tbody tr th {\n",
       "        vertical-align: top;\n",
       "    }\n",
       "\n",
       "    .dataframe thead th {\n",
       "        text-align: right;\n",
       "    }\n",
       "</style>\n",
       "<table border=\"1\" class=\"dataframe\">\n",
       "  <thead>\n",
       "    <tr style=\"text-align: right;\">\n",
       "      <th></th>\n",
       "      <th>_id</th>\n",
       "      <th>Country</th>\n",
       "      <th>Year</th>\n",
       "      <th>CO2</th>\n",
       "    </tr>\n",
       "  </thead>\n",
       "  <tbody>\n",
       "    <tr>\n",
       "      <th>0</th>\n",
       "      <td>618aafa9da36f8938f054a5a</td>\n",
       "      <td>Canada</td>\n",
       "      <td>1990</td>\n",
       "      <td>458.007408</td>\n",
       "    </tr>\n",
       "    <tr>\n",
       "      <th>1</th>\n",
       "      <td>618aafa9da36f8938f054a5b</td>\n",
       "      <td>Canada</td>\n",
       "      <td>1991</td>\n",
       "      <td>449.699173</td>\n",
       "    </tr>\n",
       "    <tr>\n",
       "      <th>2</th>\n",
       "      <td>618aafa9da36f8938f054a5c</td>\n",
       "      <td>Canada</td>\n",
       "      <td>1992</td>\n",
       "      <td>463.521037</td>\n",
       "    </tr>\n",
       "    <tr>\n",
       "      <th>3</th>\n",
       "      <td>618aafa9da36f8938f054a5d</td>\n",
       "      <td>Canada</td>\n",
       "      <td>1993</td>\n",
       "      <td>463.993303</td>\n",
       "    </tr>\n",
       "    <tr>\n",
       "      <th>4</th>\n",
       "      <td>618aafa9da36f8938f054a5e</td>\n",
       "      <td>Canada</td>\n",
       "      <td>1994</td>\n",
       "      <td>478.267071</td>\n",
       "    </tr>\n",
       "  </tbody>\n",
       "</table>\n",
       "</div>"
      ],
      "text/plain": [
       "                        _id Country  Year         CO2\n",
       "0  618aafa9da36f8938f054a5a  Canada  1990  458.007408\n",
       "1  618aafa9da36f8938f054a5b  Canada  1991  449.699173\n",
       "2  618aafa9da36f8938f054a5c  Canada  1992  463.521037\n",
       "3  618aafa9da36f8938f054a5d  Canada  1993  463.993303\n",
       "4  618aafa9da36f8938f054a5e  Canada  1994  478.267071"
      ]
     },
     "execution_count": 41,
     "metadata": {},
     "output_type": "execute_result"
    }
   ],
   "source": [
    "#Get CO2 Emission Data List as DataFrame\n",
    "em = pd.DataFrame(list(mng_db.emission_data.find()))\n",
    "em.head()"
   ]
  },
  {
   "cell_type": "code",
   "execution_count": 42,
   "metadata": {
    "scrolled": true
   },
   "outputs": [
    {
     "data": {
      "text/html": [
       "<div>\n",
       "<style scoped>\n",
       "    .dataframe tbody tr th:only-of-type {\n",
       "        vertical-align: middle;\n",
       "    }\n",
       "\n",
       "    .dataframe tbody tr th {\n",
       "        vertical-align: top;\n",
       "    }\n",
       "\n",
       "    .dataframe thead th {\n",
       "        text-align: right;\n",
       "    }\n",
       "</style>\n",
       "<table border=\"1\" class=\"dataframe\">\n",
       "  <thead>\n",
       "    <tr style=\"text-align: right;\">\n",
       "      <th></th>\n",
       "      <th>_id_x</th>\n",
       "      <th>Year</th>\n",
       "      <th>Province</th>\n",
       "      <th>Price</th>\n",
       "      <th>_id_y</th>\n",
       "      <th>Country</th>\n",
       "      <th>CO2</th>\n",
       "    </tr>\n",
       "  </thead>\n",
       "  <tbody>\n",
       "    <tr>\n",
       "      <th>0</th>\n",
       "      <td>618aa8e2da36f8938f0549e0</td>\n",
       "      <td>1990</td>\n",
       "      <td>Ontario</td>\n",
       "      <td>57.591667</td>\n",
       "      <td>618aafa9da36f8938f054a5a</td>\n",
       "      <td>Canada</td>\n",
       "      <td>458.007408</td>\n",
       "    </tr>\n",
       "    <tr>\n",
       "      <th>1</th>\n",
       "      <td>618aa8e2da36f8938f0549e4</td>\n",
       "      <td>1991</td>\n",
       "      <td>Ontario</td>\n",
       "      <td>56.308333</td>\n",
       "      <td>618aafa9da36f8938f054a5b</td>\n",
       "      <td>Canada</td>\n",
       "      <td>449.699173</td>\n",
       "    </tr>\n",
       "    <tr>\n",
       "      <th>2</th>\n",
       "      <td>618aa8e2da36f8938f0549e8</td>\n",
       "      <td>1992</td>\n",
       "      <td>Ontario</td>\n",
       "      <td>54.825000</td>\n",
       "      <td>618aafa9da36f8938f054a5c</td>\n",
       "      <td>Canada</td>\n",
       "      <td>463.521037</td>\n",
       "    </tr>\n",
       "    <tr>\n",
       "      <th>3</th>\n",
       "      <td>618aa8e2da36f8938f0549ec</td>\n",
       "      <td>1993</td>\n",
       "      <td>Ontario</td>\n",
       "      <td>53.837500</td>\n",
       "      <td>618aafa9da36f8938f054a5d</td>\n",
       "      <td>Canada</td>\n",
       "      <td>463.993303</td>\n",
       "    </tr>\n",
       "    <tr>\n",
       "      <th>4</th>\n",
       "      <td>618aa8e2da36f8938f0549f0</td>\n",
       "      <td>1994</td>\n",
       "      <td>Ontario</td>\n",
       "      <td>53.025000</td>\n",
       "      <td>618aafa9da36f8938f054a5e</td>\n",
       "      <td>Canada</td>\n",
       "      <td>478.267071</td>\n",
       "    </tr>\n",
       "  </tbody>\n",
       "</table>\n",
       "</div>"
      ],
      "text/plain": [
       "                      _id_x  Year Province      Price  \\\n",
       "0  618aa8e2da36f8938f0549e0  1990  Ontario  57.591667   \n",
       "1  618aa8e2da36f8938f0549e4  1991  Ontario  56.308333   \n",
       "2  618aa8e2da36f8938f0549e8  1992  Ontario  54.825000   \n",
       "3  618aa8e2da36f8938f0549ec  1993  Ontario  53.837500   \n",
       "4  618aa8e2da36f8938f0549f0  1994  Ontario  53.025000   \n",
       "\n",
       "                      _id_y Country         CO2  \n",
       "0  618aafa9da36f8938f054a5a  Canada  458.007408  \n",
       "1  618aafa9da36f8938f054a5b  Canada  449.699173  \n",
       "2  618aafa9da36f8938f054a5c  Canada  463.521037  \n",
       "3  618aafa9da36f8938f054a5d  Canada  463.993303  \n",
       "4  618aafa9da36f8938f054a5e  Canada  478.267071  "
      ]
     },
     "execution_count": 42,
     "metadata": {},
     "output_type": "execute_result"
    }
   ],
   "source": [
    "#Merge Ontario Data to CO2 Emission Data by Year\n",
    "ont_col_m = ont_col.merge(em, how='inner', on='Year')\n",
    "ont_col_m.head()"
   ]
  },
  {
   "cell_type": "code",
   "execution_count": 43,
   "metadata": {},
   "outputs": [
    {
     "data": {
      "text/html": [
       "<div>\n",
       "<style scoped>\n",
       "    .dataframe tbody tr th:only-of-type {\n",
       "        vertical-align: middle;\n",
       "    }\n",
       "\n",
       "    .dataframe tbody tr th {\n",
       "        vertical-align: top;\n",
       "    }\n",
       "\n",
       "    .dataframe thead th {\n",
       "        text-align: right;\n",
       "    }\n",
       "</style>\n",
       "<table border=\"1\" class=\"dataframe\">\n",
       "  <thead>\n",
       "    <tr style=\"text-align: right;\">\n",
       "      <th></th>\n",
       "      <th>Year</th>\n",
       "      <th>Province</th>\n",
       "      <th>Price</th>\n",
       "      <th>CO2</th>\n",
       "    </tr>\n",
       "  </thead>\n",
       "  <tbody>\n",
       "    <tr>\n",
       "      <th>0</th>\n",
       "      <td>1990</td>\n",
       "      <td>Ontario</td>\n",
       "      <td>57.591667</td>\n",
       "      <td>458.007408</td>\n",
       "    </tr>\n",
       "    <tr>\n",
       "      <th>1</th>\n",
       "      <td>1991</td>\n",
       "      <td>Ontario</td>\n",
       "      <td>56.308333</td>\n",
       "      <td>449.699173</td>\n",
       "    </tr>\n",
       "    <tr>\n",
       "      <th>2</th>\n",
       "      <td>1992</td>\n",
       "      <td>Ontario</td>\n",
       "      <td>54.825000</td>\n",
       "      <td>463.521037</td>\n",
       "    </tr>\n",
       "    <tr>\n",
       "      <th>3</th>\n",
       "      <td>1993</td>\n",
       "      <td>Ontario</td>\n",
       "      <td>53.837500</td>\n",
       "      <td>463.993303</td>\n",
       "    </tr>\n",
       "    <tr>\n",
       "      <th>4</th>\n",
       "      <td>1994</td>\n",
       "      <td>Ontario</td>\n",
       "      <td>53.025000</td>\n",
       "      <td>478.267071</td>\n",
       "    </tr>\n",
       "  </tbody>\n",
       "</table>\n",
       "</div>"
      ],
      "text/plain": [
       "   Year Province      Price         CO2\n",
       "0  1990  Ontario  57.591667  458.007408\n",
       "1  1991  Ontario  56.308333  449.699173\n",
       "2  1992  Ontario  54.825000  463.521037\n",
       "3  1993  Ontario  53.837500  463.993303\n",
       "4  1994  Ontario  53.025000  478.267071"
      ]
     },
     "execution_count": 43,
     "metadata": {},
     "output_type": "execute_result"
    }
   ],
   "source": [
    "#Removed unnecessary columns\n",
    "ont_col_m = ont_col_m.drop(labels=['_id_x','_id_y','Country'], axis=1)\n",
    "ont_col_m.head()"
   ]
  },
  {
   "cell_type": "code",
   "execution_count": 44,
   "metadata": {
    "scrolled": false
   },
   "outputs": [
    {
     "data": {
      "text/html": [
       "<div>\n",
       "<style scoped>\n",
       "    .dataframe tbody tr th:only-of-type {\n",
       "        vertical-align: middle;\n",
       "    }\n",
       "\n",
       "    .dataframe tbody tr th {\n",
       "        vertical-align: top;\n",
       "    }\n",
       "\n",
       "    .dataframe thead th {\n",
       "        text-align: right;\n",
       "    }\n",
       "</style>\n",
       "<table border=\"1\" class=\"dataframe\">\n",
       "  <thead>\n",
       "    <tr style=\"text-align: right;\">\n",
       "      <th></th>\n",
       "      <th>_id_x</th>\n",
       "      <th>Year</th>\n",
       "      <th>Province</th>\n",
       "      <th>Price</th>\n",
       "      <th>_id_y</th>\n",
       "      <th>Country</th>\n",
       "      <th>CO2</th>\n",
       "    </tr>\n",
       "  </thead>\n",
       "  <tbody>\n",
       "    <tr>\n",
       "      <th>0</th>\n",
       "      <td>618aa8e2da36f8938f0549df</td>\n",
       "      <td>1990</td>\n",
       "      <td>British Columbia</td>\n",
       "      <td>60.766667</td>\n",
       "      <td>618aafa9da36f8938f054a5a</td>\n",
       "      <td>Canada</td>\n",
       "      <td>458.007408</td>\n",
       "    </tr>\n",
       "    <tr>\n",
       "      <th>1</th>\n",
       "      <td>618aa8e2da36f8938f0549e3</td>\n",
       "      <td>1991</td>\n",
       "      <td>British Columbia</td>\n",
       "      <td>58.025000</td>\n",
       "      <td>618aafa9da36f8938f054a5b</td>\n",
       "      <td>Canada</td>\n",
       "      <td>449.699173</td>\n",
       "    </tr>\n",
       "    <tr>\n",
       "      <th>2</th>\n",
       "      <td>618aa8e2da36f8938f0549e7</td>\n",
       "      <td>1992</td>\n",
       "      <td>British Columbia</td>\n",
       "      <td>52.970833</td>\n",
       "      <td>618aafa9da36f8938f054a5c</td>\n",
       "      <td>Canada</td>\n",
       "      <td>463.521037</td>\n",
       "    </tr>\n",
       "    <tr>\n",
       "      <th>3</th>\n",
       "      <td>618aa8e2da36f8938f0549eb</td>\n",
       "      <td>1993</td>\n",
       "      <td>British Columbia</td>\n",
       "      <td>52.875000</td>\n",
       "      <td>618aafa9da36f8938f054a5d</td>\n",
       "      <td>Canada</td>\n",
       "      <td>463.993303</td>\n",
       "    </tr>\n",
       "    <tr>\n",
       "      <th>4</th>\n",
       "      <td>618aa8e2da36f8938f0549ef</td>\n",
       "      <td>1994</td>\n",
       "      <td>British Columbia</td>\n",
       "      <td>53.712500</td>\n",
       "      <td>618aafa9da36f8938f054a5e</td>\n",
       "      <td>Canada</td>\n",
       "      <td>478.267071</td>\n",
       "    </tr>\n",
       "  </tbody>\n",
       "</table>\n",
       "</div>"
      ],
      "text/plain": [
       "                      _id_x  Year          Province      Price  \\\n",
       "0  618aa8e2da36f8938f0549df  1990  British Columbia  60.766667   \n",
       "1  618aa8e2da36f8938f0549e3  1991  British Columbia  58.025000   \n",
       "2  618aa8e2da36f8938f0549e7  1992  British Columbia  52.970833   \n",
       "3  618aa8e2da36f8938f0549eb  1993  British Columbia  52.875000   \n",
       "4  618aa8e2da36f8938f0549ef  1994  British Columbia  53.712500   \n",
       "\n",
       "                      _id_y Country         CO2  \n",
       "0  618aafa9da36f8938f054a5a  Canada  458.007408  \n",
       "1  618aafa9da36f8938f054a5b  Canada  449.699173  \n",
       "2  618aafa9da36f8938f054a5c  Canada  463.521037  \n",
       "3  618aafa9da36f8938f054a5d  Canada  463.993303  \n",
       "4  618aafa9da36f8938f054a5e  Canada  478.267071  "
      ]
     },
     "execution_count": 44,
     "metadata": {},
     "output_type": "execute_result"
    }
   ],
   "source": [
    "#Merge BC Data to CO2 Emission Data by Year\n",
    "bc_col_m = bc_col.merge(em, how='inner', on='Year')\n",
    "bc_col_m.head()"
   ]
  },
  {
   "cell_type": "code",
   "execution_count": 45,
   "metadata": {},
   "outputs": [
    {
     "data": {
      "text/plain": [
       "31"
      ]
     },
     "execution_count": 45,
     "metadata": {},
     "output_type": "execute_result"
    }
   ],
   "source": [
    "len(bc_col_m)"
   ]
  },
  {
   "cell_type": "code",
   "execution_count": 46,
   "metadata": {},
   "outputs": [
    {
     "data": {
      "text/html": [
       "<div>\n",
       "<style scoped>\n",
       "    .dataframe tbody tr th:only-of-type {\n",
       "        vertical-align: middle;\n",
       "    }\n",
       "\n",
       "    .dataframe tbody tr th {\n",
       "        vertical-align: top;\n",
       "    }\n",
       "\n",
       "    .dataframe thead th {\n",
       "        text-align: right;\n",
       "    }\n",
       "</style>\n",
       "<table border=\"1\" class=\"dataframe\">\n",
       "  <thead>\n",
       "    <tr style=\"text-align: right;\">\n",
       "      <th></th>\n",
       "      <th>Year</th>\n",
       "      <th>Province</th>\n",
       "      <th>Price</th>\n",
       "      <th>CO2</th>\n",
       "    </tr>\n",
       "  </thead>\n",
       "  <tbody>\n",
       "    <tr>\n",
       "      <th>0</th>\n",
       "      <td>1990</td>\n",
       "      <td>British Columbia</td>\n",
       "      <td>60.766667</td>\n",
       "      <td>458.007408</td>\n",
       "    </tr>\n",
       "    <tr>\n",
       "      <th>1</th>\n",
       "      <td>1991</td>\n",
       "      <td>British Columbia</td>\n",
       "      <td>58.025000</td>\n",
       "      <td>449.699173</td>\n",
       "    </tr>\n",
       "    <tr>\n",
       "      <th>2</th>\n",
       "      <td>1992</td>\n",
       "      <td>British Columbia</td>\n",
       "      <td>52.970833</td>\n",
       "      <td>463.521037</td>\n",
       "    </tr>\n",
       "    <tr>\n",
       "      <th>3</th>\n",
       "      <td>1993</td>\n",
       "      <td>British Columbia</td>\n",
       "      <td>52.875000</td>\n",
       "      <td>463.993303</td>\n",
       "    </tr>\n",
       "    <tr>\n",
       "      <th>4</th>\n",
       "      <td>1994</td>\n",
       "      <td>British Columbia</td>\n",
       "      <td>53.712500</td>\n",
       "      <td>478.267071</td>\n",
       "    </tr>\n",
       "  </tbody>\n",
       "</table>\n",
       "</div>"
      ],
      "text/plain": [
       "   Year          Province      Price         CO2\n",
       "0  1990  British Columbia  60.766667  458.007408\n",
       "1  1991  British Columbia  58.025000  449.699173\n",
       "2  1992  British Columbia  52.970833  463.521037\n",
       "3  1993  British Columbia  52.875000  463.993303\n",
       "4  1994  British Columbia  53.712500  478.267071"
      ]
     },
     "execution_count": 46,
     "metadata": {},
     "output_type": "execute_result"
    }
   ],
   "source": [
    "#Removed unnecessary columns\n",
    "bc_col_m = bc_col_m.drop(labels=['_id_x','_id_y','Country'], axis=1)\n",
    "bc_col_m.head()"
   ]
  },
  {
   "cell_type": "code",
   "execution_count": 47,
   "metadata": {
    "scrolled": false
   },
   "outputs": [
    {
     "data": {
      "text/html": [
       "<div>\n",
       "<style scoped>\n",
       "    .dataframe tbody tr th:only-of-type {\n",
       "        vertical-align: middle;\n",
       "    }\n",
       "\n",
       "    .dataframe tbody tr th {\n",
       "        vertical-align: top;\n",
       "    }\n",
       "\n",
       "    .dataframe thead th {\n",
       "        text-align: right;\n",
       "    }\n",
       "</style>\n",
       "<table border=\"1\" class=\"dataframe\">\n",
       "  <thead>\n",
       "    <tr style=\"text-align: right;\">\n",
       "      <th></th>\n",
       "      <th>_id_x</th>\n",
       "      <th>Year</th>\n",
       "      <th>Province</th>\n",
       "      <th>Price</th>\n",
       "      <th>_id_y</th>\n",
       "      <th>Country</th>\n",
       "      <th>CO2</th>\n",
       "    </tr>\n",
       "  </thead>\n",
       "  <tbody>\n",
       "    <tr>\n",
       "      <th>0</th>\n",
       "      <td>618aa8e2da36f8938f0549de</td>\n",
       "      <td>1990</td>\n",
       "      <td>Alberta</td>\n",
       "      <td>53.895833</td>\n",
       "      <td>618aafa9da36f8938f054a5a</td>\n",
       "      <td>Canada</td>\n",
       "      <td>458.007408</td>\n",
       "    </tr>\n",
       "    <tr>\n",
       "      <th>1</th>\n",
       "      <td>618aa8e2da36f8938f0549e2</td>\n",
       "      <td>1991</td>\n",
       "      <td>Alberta</td>\n",
       "      <td>50.141667</td>\n",
       "      <td>618aafa9da36f8938f054a5b</td>\n",
       "      <td>Canada</td>\n",
       "      <td>449.699173</td>\n",
       "    </tr>\n",
       "    <tr>\n",
       "      <th>2</th>\n",
       "      <td>618aa8e2da36f8938f0549e6</td>\n",
       "      <td>1992</td>\n",
       "      <td>Alberta</td>\n",
       "      <td>47.083333</td>\n",
       "      <td>618aafa9da36f8938f054a5c</td>\n",
       "      <td>Canada</td>\n",
       "      <td>463.521037</td>\n",
       "    </tr>\n",
       "    <tr>\n",
       "      <th>3</th>\n",
       "      <td>618aa8e2da36f8938f0549ea</td>\n",
       "      <td>1993</td>\n",
       "      <td>Alberta</td>\n",
       "      <td>46.500000</td>\n",
       "      <td>618aafa9da36f8938f054a5d</td>\n",
       "      <td>Canada</td>\n",
       "      <td>463.993303</td>\n",
       "    </tr>\n",
       "    <tr>\n",
       "      <th>4</th>\n",
       "      <td>618aa8e2da36f8938f0549ee</td>\n",
       "      <td>1994</td>\n",
       "      <td>Alberta</td>\n",
       "      <td>46.400000</td>\n",
       "      <td>618aafa9da36f8938f054a5e</td>\n",
       "      <td>Canada</td>\n",
       "      <td>478.267071</td>\n",
       "    </tr>\n",
       "  </tbody>\n",
       "</table>\n",
       "</div>"
      ],
      "text/plain": [
       "                      _id_x  Year Province      Price  \\\n",
       "0  618aa8e2da36f8938f0549de  1990  Alberta  53.895833   \n",
       "1  618aa8e2da36f8938f0549e2  1991  Alberta  50.141667   \n",
       "2  618aa8e2da36f8938f0549e6  1992  Alberta  47.083333   \n",
       "3  618aa8e2da36f8938f0549ea  1993  Alberta  46.500000   \n",
       "4  618aa8e2da36f8938f0549ee  1994  Alberta  46.400000   \n",
       "\n",
       "                      _id_y Country         CO2  \n",
       "0  618aafa9da36f8938f054a5a  Canada  458.007408  \n",
       "1  618aafa9da36f8938f054a5b  Canada  449.699173  \n",
       "2  618aafa9da36f8938f054a5c  Canada  463.521037  \n",
       "3  618aafa9da36f8938f054a5d  Canada  463.993303  \n",
       "4  618aafa9da36f8938f054a5e  Canada  478.267071  "
      ]
     },
     "execution_count": 47,
     "metadata": {},
     "output_type": "execute_result"
    }
   ],
   "source": [
    "#Merge Alberta Data to CO2 Emission Data by Year\n",
    "alb_col_m = alb_col.merge(em, how='inner', on='Year')\n",
    "alb_col_m.head()"
   ]
  },
  {
   "cell_type": "code",
   "execution_count": 48,
   "metadata": {},
   "outputs": [
    {
     "data": {
      "text/html": [
       "<div>\n",
       "<style scoped>\n",
       "    .dataframe tbody tr th:only-of-type {\n",
       "        vertical-align: middle;\n",
       "    }\n",
       "\n",
       "    .dataframe tbody tr th {\n",
       "        vertical-align: top;\n",
       "    }\n",
       "\n",
       "    .dataframe thead th {\n",
       "        text-align: right;\n",
       "    }\n",
       "</style>\n",
       "<table border=\"1\" class=\"dataframe\">\n",
       "  <thead>\n",
       "    <tr style=\"text-align: right;\">\n",
       "      <th></th>\n",
       "      <th>Year</th>\n",
       "      <th>Province</th>\n",
       "      <th>Price</th>\n",
       "      <th>CO2</th>\n",
       "    </tr>\n",
       "  </thead>\n",
       "  <tbody>\n",
       "    <tr>\n",
       "      <th>0</th>\n",
       "      <td>1990</td>\n",
       "      <td>Alberta</td>\n",
       "      <td>53.895833</td>\n",
       "      <td>458.007408</td>\n",
       "    </tr>\n",
       "    <tr>\n",
       "      <th>1</th>\n",
       "      <td>1991</td>\n",
       "      <td>Alberta</td>\n",
       "      <td>50.141667</td>\n",
       "      <td>449.699173</td>\n",
       "    </tr>\n",
       "    <tr>\n",
       "      <th>2</th>\n",
       "      <td>1992</td>\n",
       "      <td>Alberta</td>\n",
       "      <td>47.083333</td>\n",
       "      <td>463.521037</td>\n",
       "    </tr>\n",
       "    <tr>\n",
       "      <th>3</th>\n",
       "      <td>1993</td>\n",
       "      <td>Alberta</td>\n",
       "      <td>46.500000</td>\n",
       "      <td>463.993303</td>\n",
       "    </tr>\n",
       "    <tr>\n",
       "      <th>4</th>\n",
       "      <td>1994</td>\n",
       "      <td>Alberta</td>\n",
       "      <td>46.400000</td>\n",
       "      <td>478.267071</td>\n",
       "    </tr>\n",
       "  </tbody>\n",
       "</table>\n",
       "</div>"
      ],
      "text/plain": [
       "   Year Province      Price         CO2\n",
       "0  1990  Alberta  53.895833  458.007408\n",
       "1  1991  Alberta  50.141667  449.699173\n",
       "2  1992  Alberta  47.083333  463.521037\n",
       "3  1993  Alberta  46.500000  463.993303\n",
       "4  1994  Alberta  46.400000  478.267071"
      ]
     },
     "execution_count": 48,
     "metadata": {},
     "output_type": "execute_result"
    }
   ],
   "source": [
    "#Removed unnecessary columns\n",
    "alb_col_m = alb_col_m.drop(labels=['_id_x','_id_y','Country'], axis=1)\n",
    "alb_col_m.head()"
   ]
  },
  {
   "cell_type": "code",
   "execution_count": 49,
   "metadata": {
    "scrolled": false
   },
   "outputs": [
    {
     "data": {
      "text/html": [
       "<div>\n",
       "<style scoped>\n",
       "    .dataframe tbody tr th:only-of-type {\n",
       "        vertical-align: middle;\n",
       "    }\n",
       "\n",
       "    .dataframe tbody tr th {\n",
       "        vertical-align: top;\n",
       "    }\n",
       "\n",
       "    .dataframe thead th {\n",
       "        text-align: right;\n",
       "    }\n",
       "</style>\n",
       "<table border=\"1\" class=\"dataframe\">\n",
       "  <thead>\n",
       "    <tr style=\"text-align: right;\">\n",
       "      <th></th>\n",
       "      <th>_id_x</th>\n",
       "      <th>Year</th>\n",
       "      <th>Province</th>\n",
       "      <th>Price</th>\n",
       "      <th>_id_y</th>\n",
       "      <th>Country</th>\n",
       "      <th>CO2</th>\n",
       "    </tr>\n",
       "  </thead>\n",
       "  <tbody>\n",
       "    <tr>\n",
       "      <th>0</th>\n",
       "      <td>618aa8e2da36f8938f0549e1</td>\n",
       "      <td>1990</td>\n",
       "      <td>Quebec</td>\n",
       "      <td>62.616667</td>\n",
       "      <td>618aafa9da36f8938f054a5a</td>\n",
       "      <td>Canada</td>\n",
       "      <td>458.007408</td>\n",
       "    </tr>\n",
       "    <tr>\n",
       "      <th>1</th>\n",
       "      <td>618aa8e2da36f8938f0549e5</td>\n",
       "      <td>1991</td>\n",
       "      <td>Quebec</td>\n",
       "      <td>64.279167</td>\n",
       "      <td>618aafa9da36f8938f054a5b</td>\n",
       "      <td>Canada</td>\n",
       "      <td>449.699173</td>\n",
       "    </tr>\n",
       "    <tr>\n",
       "      <th>2</th>\n",
       "      <td>618aa8e2da36f8938f0549e9</td>\n",
       "      <td>1992</td>\n",
       "      <td>Quebec</td>\n",
       "      <td>60.658333</td>\n",
       "      <td>618aafa9da36f8938f054a5c</td>\n",
       "      <td>Canada</td>\n",
       "      <td>463.521037</td>\n",
       "    </tr>\n",
       "    <tr>\n",
       "      <th>3</th>\n",
       "      <td>618aa8e2da36f8938f0549ed</td>\n",
       "      <td>1993</td>\n",
       "      <td>Quebec</td>\n",
       "      <td>58.241667</td>\n",
       "      <td>618aafa9da36f8938f054a5d</td>\n",
       "      <td>Canada</td>\n",
       "      <td>463.993303</td>\n",
       "    </tr>\n",
       "    <tr>\n",
       "      <th>4</th>\n",
       "      <td>618aa8e2da36f8938f0549f1</td>\n",
       "      <td>1994</td>\n",
       "      <td>Quebec</td>\n",
       "      <td>55.941667</td>\n",
       "      <td>618aafa9da36f8938f054a5e</td>\n",
       "      <td>Canada</td>\n",
       "      <td>478.267071</td>\n",
       "    </tr>\n",
       "  </tbody>\n",
       "</table>\n",
       "</div>"
      ],
      "text/plain": [
       "                      _id_x  Year Province      Price  \\\n",
       "0  618aa8e2da36f8938f0549e1  1990   Quebec  62.616667   \n",
       "1  618aa8e2da36f8938f0549e5  1991   Quebec  64.279167   \n",
       "2  618aa8e2da36f8938f0549e9  1992   Quebec  60.658333   \n",
       "3  618aa8e2da36f8938f0549ed  1993   Quebec  58.241667   \n",
       "4  618aa8e2da36f8938f0549f1  1994   Quebec  55.941667   \n",
       "\n",
       "                      _id_y Country         CO2  \n",
       "0  618aafa9da36f8938f054a5a  Canada  458.007408  \n",
       "1  618aafa9da36f8938f054a5b  Canada  449.699173  \n",
       "2  618aafa9da36f8938f054a5c  Canada  463.521037  \n",
       "3  618aafa9da36f8938f054a5d  Canada  463.993303  \n",
       "4  618aafa9da36f8938f054a5e  Canada  478.267071  "
      ]
     },
     "execution_count": 49,
     "metadata": {},
     "output_type": "execute_result"
    }
   ],
   "source": [
    "#Merge Alberta Data to CO2 Emission Data by Year\n",
    "qc_col_m = qc_col.merge(em, how='inner', on='Year')\n",
    "qc_col_m.head()"
   ]
  },
  {
   "cell_type": "code",
   "execution_count": 50,
   "metadata": {
    "scrolled": true
   },
   "outputs": [
    {
     "data": {
      "text/html": [
       "<div>\n",
       "<style scoped>\n",
       "    .dataframe tbody tr th:only-of-type {\n",
       "        vertical-align: middle;\n",
       "    }\n",
       "\n",
       "    .dataframe tbody tr th {\n",
       "        vertical-align: top;\n",
       "    }\n",
       "\n",
       "    .dataframe thead th {\n",
       "        text-align: right;\n",
       "    }\n",
       "</style>\n",
       "<table border=\"1\" class=\"dataframe\">\n",
       "  <thead>\n",
       "    <tr style=\"text-align: right;\">\n",
       "      <th></th>\n",
       "      <th>Year</th>\n",
       "      <th>Province</th>\n",
       "      <th>Price</th>\n",
       "      <th>CO2</th>\n",
       "    </tr>\n",
       "  </thead>\n",
       "  <tbody>\n",
       "    <tr>\n",
       "      <th>0</th>\n",
       "      <td>1990</td>\n",
       "      <td>Quebec</td>\n",
       "      <td>62.616667</td>\n",
       "      <td>458.007408</td>\n",
       "    </tr>\n",
       "    <tr>\n",
       "      <th>1</th>\n",
       "      <td>1991</td>\n",
       "      <td>Quebec</td>\n",
       "      <td>64.279167</td>\n",
       "      <td>449.699173</td>\n",
       "    </tr>\n",
       "    <tr>\n",
       "      <th>2</th>\n",
       "      <td>1992</td>\n",
       "      <td>Quebec</td>\n",
       "      <td>60.658333</td>\n",
       "      <td>463.521037</td>\n",
       "    </tr>\n",
       "    <tr>\n",
       "      <th>3</th>\n",
       "      <td>1993</td>\n",
       "      <td>Quebec</td>\n",
       "      <td>58.241667</td>\n",
       "      <td>463.993303</td>\n",
       "    </tr>\n",
       "    <tr>\n",
       "      <th>4</th>\n",
       "      <td>1994</td>\n",
       "      <td>Quebec</td>\n",
       "      <td>55.941667</td>\n",
       "      <td>478.267071</td>\n",
       "    </tr>\n",
       "  </tbody>\n",
       "</table>\n",
       "</div>"
      ],
      "text/plain": [
       "   Year Province      Price         CO2\n",
       "0  1990   Quebec  62.616667  458.007408\n",
       "1  1991   Quebec  64.279167  449.699173\n",
       "2  1992   Quebec  60.658333  463.521037\n",
       "3  1993   Quebec  58.241667  463.993303\n",
       "4  1994   Quebec  55.941667  478.267071"
      ]
     },
     "execution_count": 50,
     "metadata": {},
     "output_type": "execute_result"
    }
   ],
   "source": [
    "#Removed unnecessary columns\n",
    "qc_col_m = qc_col_m.drop(labels=['_id_x','_id_y','Country'], axis=1)\n",
    "qc_col_m.head()"
   ]
  },
  {
   "cell_type": "markdown",
   "metadata": {},
   "source": [
    "### Data merged with emmissions provincially\n",
    "### Now Appending all Province DataFrames together"
   ]
  },
  {
   "cell_type": "code",
   "execution_count": 51,
   "metadata": {},
   "outputs": [
    {
     "data": {
      "text/html": [
       "<div>\n",
       "<style scoped>\n",
       "    .dataframe tbody tr th:only-of-type {\n",
       "        vertical-align: middle;\n",
       "    }\n",
       "\n",
       "    .dataframe tbody tr th {\n",
       "        vertical-align: top;\n",
       "    }\n",
       "\n",
       "    .dataframe thead th {\n",
       "        text-align: right;\n",
       "    }\n",
       "</style>\n",
       "<table border=\"1\" class=\"dataframe\">\n",
       "  <thead>\n",
       "    <tr style=\"text-align: right;\">\n",
       "      <th></th>\n",
       "      <th>Year</th>\n",
       "      <th>Province</th>\n",
       "      <th>Price</th>\n",
       "      <th>CO2</th>\n",
       "    </tr>\n",
       "  </thead>\n",
       "  <tbody>\n",
       "    <tr>\n",
       "      <th>26</th>\n",
       "      <td>2016</td>\n",
       "      <td>British Columbia</td>\n",
       "      <td>114.975000</td>\n",
       "      <td>559.566962</td>\n",
       "    </tr>\n",
       "    <tr>\n",
       "      <th>27</th>\n",
       "      <td>2017</td>\n",
       "      <td>British Columbia</td>\n",
       "      <td>130.270833</td>\n",
       "      <td>569.360436</td>\n",
       "    </tr>\n",
       "    <tr>\n",
       "      <th>28</th>\n",
       "      <td>2018</td>\n",
       "      <td>British Columbia</td>\n",
       "      <td>146.462500</td>\n",
       "      <td>579.470372</td>\n",
       "    </tr>\n",
       "    <tr>\n",
       "      <th>29</th>\n",
       "      <td>2019</td>\n",
       "      <td>British Columbia</td>\n",
       "      <td>145.462500</td>\n",
       "      <td>582.389608</td>\n",
       "    </tr>\n",
       "    <tr>\n",
       "      <th>30</th>\n",
       "      <td>2020</td>\n",
       "      <td>British Columbia</td>\n",
       "      <td>124.483333</td>\n",
       "      <td>535.822990</td>\n",
       "    </tr>\n",
       "  </tbody>\n",
       "</table>\n",
       "</div>"
      ],
      "text/plain": [
       "    Year          Province       Price         CO2\n",
       "26  2016  British Columbia  114.975000  559.566962\n",
       "27  2017  British Columbia  130.270833  569.360436\n",
       "28  2018  British Columbia  146.462500  579.470372\n",
       "29  2019  British Columbia  145.462500  582.389608\n",
       "30  2020  British Columbia  124.483333  535.822990"
      ]
     },
     "execution_count": 51,
     "metadata": {},
     "output_type": "execute_result"
    }
   ],
   "source": [
    "#Appending the data\n",
    "appended_data = ont_col_m.append(bc_col_m)\n",
    "appended_data.tail()"
   ]
  },
  {
   "cell_type": "code",
   "execution_count": 52,
   "metadata": {},
   "outputs": [
    {
     "data": {
      "text/plain": [
       "62"
      ]
     },
     "execution_count": 52,
     "metadata": {},
     "output_type": "execute_result"
    }
   ],
   "source": [
    "len(appended_data)"
   ]
  },
  {
   "cell_type": "code",
   "execution_count": 53,
   "metadata": {},
   "outputs": [
    {
     "data": {
      "text/html": [
       "<div>\n",
       "<style scoped>\n",
       "    .dataframe tbody tr th:only-of-type {\n",
       "        vertical-align: middle;\n",
       "    }\n",
       "\n",
       "    .dataframe tbody tr th {\n",
       "        vertical-align: top;\n",
       "    }\n",
       "\n",
       "    .dataframe thead th {\n",
       "        text-align: right;\n",
       "    }\n",
       "</style>\n",
       "<table border=\"1\" class=\"dataframe\">\n",
       "  <thead>\n",
       "    <tr style=\"text-align: right;\">\n",
       "      <th></th>\n",
       "      <th>Year</th>\n",
       "      <th>Province</th>\n",
       "      <th>Price</th>\n",
       "      <th>CO2</th>\n",
       "    </tr>\n",
       "  </thead>\n",
       "  <tbody>\n",
       "    <tr>\n",
       "      <th>26</th>\n",
       "      <td>2016</td>\n",
       "      <td>Alberta</td>\n",
       "      <td>87.954167</td>\n",
       "      <td>559.566962</td>\n",
       "    </tr>\n",
       "    <tr>\n",
       "      <th>27</th>\n",
       "      <td>2017</td>\n",
       "      <td>Alberta</td>\n",
       "      <td>99.679167</td>\n",
       "      <td>569.360436</td>\n",
       "    </tr>\n",
       "    <tr>\n",
       "      <th>28</th>\n",
       "      <td>2018</td>\n",
       "      <td>Alberta</td>\n",
       "      <td>118.300000</td>\n",
       "      <td>579.470372</td>\n",
       "    </tr>\n",
       "    <tr>\n",
       "      <th>29</th>\n",
       "      <td>2019</td>\n",
       "      <td>Alberta</td>\n",
       "      <td>104.166667</td>\n",
       "      <td>582.389608</td>\n",
       "    </tr>\n",
       "    <tr>\n",
       "      <th>30</th>\n",
       "      <td>2020</td>\n",
       "      <td>Alberta</td>\n",
       "      <td>92.125000</td>\n",
       "      <td>535.822990</td>\n",
       "    </tr>\n",
       "  </tbody>\n",
       "</table>\n",
       "</div>"
      ],
      "text/plain": [
       "    Year Province       Price         CO2\n",
       "26  2016  Alberta   87.954167  559.566962\n",
       "27  2017  Alberta   99.679167  569.360436\n",
       "28  2018  Alberta  118.300000  579.470372\n",
       "29  2019  Alberta  104.166667  582.389608\n",
       "30  2020  Alberta   92.125000  535.822990"
      ]
     },
     "execution_count": 53,
     "metadata": {},
     "output_type": "execute_result"
    }
   ],
   "source": [
    "appended_data = appended_data.append(alb_col_m)\n",
    "appended_data.tail()"
   ]
  },
  {
   "cell_type": "code",
   "execution_count": 54,
   "metadata": {},
   "outputs": [
    {
     "data": {
      "text/plain": [
       "93"
      ]
     },
     "execution_count": 54,
     "metadata": {},
     "output_type": "execute_result"
    }
   ],
   "source": [
    "len(appended_data)"
   ]
  },
  {
   "cell_type": "code",
   "execution_count": 55,
   "metadata": {},
   "outputs": [
    {
     "data": {
      "text/html": [
       "<div>\n",
       "<style scoped>\n",
       "    .dataframe tbody tr th:only-of-type {\n",
       "        vertical-align: middle;\n",
       "    }\n",
       "\n",
       "    .dataframe tbody tr th {\n",
       "        vertical-align: top;\n",
       "    }\n",
       "\n",
       "    .dataframe thead th {\n",
       "        text-align: right;\n",
       "    }\n",
       "</style>\n",
       "<table border=\"1\" class=\"dataframe\">\n",
       "  <thead>\n",
       "    <tr style=\"text-align: right;\">\n",
       "      <th></th>\n",
       "      <th>Year</th>\n",
       "      <th>Province</th>\n",
       "      <th>Price</th>\n",
       "      <th>CO2</th>\n",
       "    </tr>\n",
       "  </thead>\n",
       "  <tbody>\n",
       "    <tr>\n",
       "      <th>26</th>\n",
       "      <td>2016</td>\n",
       "      <td>Quebec</td>\n",
       "      <td>104.912500</td>\n",
       "      <td>559.566962</td>\n",
       "    </tr>\n",
       "    <tr>\n",
       "      <th>27</th>\n",
       "      <td>2017</td>\n",
       "      <td>Quebec</td>\n",
       "      <td>115.425000</td>\n",
       "      <td>569.360436</td>\n",
       "    </tr>\n",
       "    <tr>\n",
       "      <th>28</th>\n",
       "      <td>2018</td>\n",
       "      <td>Quebec</td>\n",
       "      <td>128.708333</td>\n",
       "      <td>579.470372</td>\n",
       "    </tr>\n",
       "    <tr>\n",
       "      <th>29</th>\n",
       "      <td>2019</td>\n",
       "      <td>Quebec</td>\n",
       "      <td>122.504167</td>\n",
       "      <td>582.389608</td>\n",
       "    </tr>\n",
       "    <tr>\n",
       "      <th>30</th>\n",
       "      <td>2020</td>\n",
       "      <td>Quebec</td>\n",
       "      <td>104.908333</td>\n",
       "      <td>535.822990</td>\n",
       "    </tr>\n",
       "  </tbody>\n",
       "</table>\n",
       "</div>"
      ],
      "text/plain": [
       "    Year Province       Price         CO2\n",
       "26  2016   Quebec  104.912500  559.566962\n",
       "27  2017   Quebec  115.425000  569.360436\n",
       "28  2018   Quebec  128.708333  579.470372\n",
       "29  2019   Quebec  122.504167  582.389608\n",
       "30  2020   Quebec  104.908333  535.822990"
      ]
     },
     "execution_count": 55,
     "metadata": {},
     "output_type": "execute_result"
    }
   ],
   "source": [
    "appended_data = appended_data.append(qc_col_m)\n",
    "appended_data.tail()"
   ]
  },
  {
   "cell_type": "code",
   "execution_count": 56,
   "metadata": {},
   "outputs": [
    {
     "data": {
      "text/plain": [
       "124"
      ]
     },
     "execution_count": 56,
     "metadata": {},
     "output_type": "execute_result"
    }
   ],
   "source": [
    "len(appended_data)"
   ]
  },
  {
   "cell_type": "code",
   "execution_count": 57,
   "metadata": {},
   "outputs": [],
   "source": [
    "#Resetting the Index\n",
    "appended_data.reset_index(inplace=True,drop=True)"
   ]
  },
  {
   "cell_type": "code",
   "execution_count": 58,
   "metadata": {},
   "outputs": [
    {
     "data": {
      "text/html": [
       "<div>\n",
       "<style scoped>\n",
       "    .dataframe tbody tr th:only-of-type {\n",
       "        vertical-align: middle;\n",
       "    }\n",
       "\n",
       "    .dataframe tbody tr th {\n",
       "        vertical-align: top;\n",
       "    }\n",
       "\n",
       "    .dataframe thead th {\n",
       "        text-align: right;\n",
       "    }\n",
       "</style>\n",
       "<table border=\"1\" class=\"dataframe\">\n",
       "  <thead>\n",
       "    <tr style=\"text-align: right;\">\n",
       "      <th></th>\n",
       "      <th>Year</th>\n",
       "      <th>Province</th>\n",
       "      <th>Price</th>\n",
       "      <th>CO2</th>\n",
       "    </tr>\n",
       "  </thead>\n",
       "  <tbody>\n",
       "    <tr>\n",
       "      <th>0</th>\n",
       "      <td>1990</td>\n",
       "      <td>Ontario</td>\n",
       "      <td>57.591667</td>\n",
       "      <td>458.007408</td>\n",
       "    </tr>\n",
       "    <tr>\n",
       "      <th>1</th>\n",
       "      <td>1991</td>\n",
       "      <td>Ontario</td>\n",
       "      <td>56.308333</td>\n",
       "      <td>449.699173</td>\n",
       "    </tr>\n",
       "    <tr>\n",
       "      <th>2</th>\n",
       "      <td>1992</td>\n",
       "      <td>Ontario</td>\n",
       "      <td>54.825000</td>\n",
       "      <td>463.521037</td>\n",
       "    </tr>\n",
       "    <tr>\n",
       "      <th>3</th>\n",
       "      <td>1993</td>\n",
       "      <td>Ontario</td>\n",
       "      <td>53.837500</td>\n",
       "      <td>463.993303</td>\n",
       "    </tr>\n",
       "    <tr>\n",
       "      <th>4</th>\n",
       "      <td>1994</td>\n",
       "      <td>Ontario</td>\n",
       "      <td>53.025000</td>\n",
       "      <td>478.267071</td>\n",
       "    </tr>\n",
       "  </tbody>\n",
       "</table>\n",
       "</div>"
      ],
      "text/plain": [
       "   Year Province      Price         CO2\n",
       "0  1990  Ontario  57.591667  458.007408\n",
       "1  1991  Ontario  56.308333  449.699173\n",
       "2  1992  Ontario  54.825000  463.521037\n",
       "3  1993  Ontario  53.837500  463.993303\n",
       "4  1994  Ontario  53.025000  478.267071"
      ]
     },
     "execution_count": 58,
     "metadata": {},
     "output_type": "execute_result"
    }
   ],
   "source": [
    "appended_data.head()"
   ]
  },
  {
   "cell_type": "code",
   "execution_count": 59,
   "metadata": {},
   "outputs": [],
   "source": [
    "clean_data = appended_data.copy()"
   ]
  },
  {
   "cell_type": "code",
   "execution_count": 36,
   "metadata": {},
   "outputs": [
    {
     "data": {
      "text/html": [
       "<div>\n",
       "<style scoped>\n",
       "    .dataframe tbody tr th:only-of-type {\n",
       "        vertical-align: middle;\n",
       "    }\n",
       "\n",
       "    .dataframe tbody tr th {\n",
       "        vertical-align: top;\n",
       "    }\n",
       "\n",
       "    .dataframe thead th {\n",
       "        text-align: right;\n",
       "    }\n",
       "</style>\n",
       "<table border=\"1\" class=\"dataframe\">\n",
       "  <thead>\n",
       "    <tr style=\"text-align: right;\">\n",
       "      <th></th>\n",
       "      <th>Year</th>\n",
       "      <th>Province</th>\n",
       "      <th>Price</th>\n",
       "      <th>CO2</th>\n",
       "      <th>_id_x</th>\n",
       "      <th>_id_y</th>\n",
       "      <th>Country</th>\n",
       "    </tr>\n",
       "  </thead>\n",
       "  <tbody>\n",
       "    <tr>\n",
       "      <th>0</th>\n",
       "      <td>1990</td>\n",
       "      <td>Ontario</td>\n",
       "      <td>57.591667</td>\n",
       "      <td>458.007408</td>\n",
       "      <td>NaN</td>\n",
       "      <td>NaN</td>\n",
       "      <td>NaN</td>\n",
       "    </tr>\n",
       "    <tr>\n",
       "      <th>1</th>\n",
       "      <td>1991</td>\n",
       "      <td>Ontario</td>\n",
       "      <td>56.308333</td>\n",
       "      <td>449.699173</td>\n",
       "      <td>NaN</td>\n",
       "      <td>NaN</td>\n",
       "      <td>NaN</td>\n",
       "    </tr>\n",
       "    <tr>\n",
       "      <th>2</th>\n",
       "      <td>1992</td>\n",
       "      <td>Ontario</td>\n",
       "      <td>54.825000</td>\n",
       "      <td>463.521037</td>\n",
       "      <td>NaN</td>\n",
       "      <td>NaN</td>\n",
       "      <td>NaN</td>\n",
       "    </tr>\n",
       "    <tr>\n",
       "      <th>3</th>\n",
       "      <td>1993</td>\n",
       "      <td>Ontario</td>\n",
       "      <td>53.837500</td>\n",
       "      <td>463.993303</td>\n",
       "      <td>NaN</td>\n",
       "      <td>NaN</td>\n",
       "      <td>NaN</td>\n",
       "    </tr>\n",
       "    <tr>\n",
       "      <th>4</th>\n",
       "      <td>1994</td>\n",
       "      <td>Ontario</td>\n",
       "      <td>53.025000</td>\n",
       "      <td>478.267071</td>\n",
       "      <td>NaN</td>\n",
       "      <td>NaN</td>\n",
       "      <td>NaN</td>\n",
       "    </tr>\n",
       "  </tbody>\n",
       "</table>\n",
       "</div>"
      ],
      "text/plain": [
       "   Year Province      Price         CO2 _id_x _id_y Country\n",
       "0  1990  Ontario  57.591667  458.007408   NaN   NaN     NaN\n",
       "1  1991  Ontario  56.308333  449.699173   NaN   NaN     NaN\n",
       "2  1992  Ontario  54.825000  463.521037   NaN   NaN     NaN\n",
       "3  1993  Ontario  53.837500  463.993303   NaN   NaN     NaN\n",
       "4  1994  Ontario  53.025000  478.267071   NaN   NaN     NaN"
      ]
     },
     "execution_count": 36,
     "metadata": {},
     "output_type": "execute_result"
    }
   ],
   "source": [
    "clean_data.head()"
   ]
  },
  {
   "cell_type": "code",
   "execution_count": 61,
   "metadata": {},
   "outputs": [
    {
     "data": {
      "text/plain": [
       "124"
      ]
     },
     "execution_count": 61,
     "metadata": {},
     "output_type": "execute_result"
    }
   ],
   "source": [
    "# 31 years X 4 provinces = 124\n",
    "len(clean_data)"
   ]
  },
  {
   "cell_type": "markdown",
   "metadata": {},
   "source": [
    "### VISUALIZATION"
   ]
  },
  {
   "cell_type": "markdown",
   "metadata": {},
   "source": [
    "Are CO2 emissions relative to gas prices?"
   ]
  },
  {
   "cell_type": "code",
   "execution_count": 62,
   "metadata": {},
   "outputs": [
    {
     "data": {
      "image/png": "[encoded data removed]",
      "text/plain": [
       "<Figure size 1080x288 with 1 Axes>"
      ]
     },
     "metadata": {
      "needs_background": "light"
     },
     "output_type": "display_data"
    }
   ],
   "source": [
    "#Plot: CO2 Emissions vs Gas Prices \n",
    "fig, ax = plt.subplots(figsize=(15,4))\n",
    "\n",
    "ax.scatter(clean_data[\"Price\"], clean_data[\"CO2\"], alpha = 0.8, edgecolors=\"k\", linewidth=1)\n",
    "\n",
    "#Labels\n",
    "ax.set_title(\"CO2 Emissions vs Gas Prices (1990-2020)\",fontsize=15) \n",
    "ax.set_xlabel(\"Prices (cents per L)\", fontweight='bold')\n",
    "ax.set_ylabel(\"CO2 Emissions (Megatonnes)\", fontweight='bold')\n",
    "#ax.set_xlim(0, 9)\n",
    "ax.grid(True)\n",
    "#ax.xaxis.grid(False, which='minor')\n",
    "#set the number of minor ticks between the major ticks\n",
    "#ax.xaxis.set_minor_locator(AutoMinorLocator(10))\n",
    "\n",
    "#save the figure\n",
    "#plt.savefig(output_folder + \"9_EarthquakeMagnitudeVsPcOceanicEvent.png\", facecolor = 'white')\n",
    "plt.show()"
   ]
  },
  {
   "cell_type": "code",
   "execution_count": 63,
   "metadata": {
    "scrolled": true
   },
   "outputs": [
    {
     "data": {
      "image/png": "[encoded data removed]",
      "text/plain": [
       "<Figure size 1080x288 with 1 Axes>"
      ]
     },
     "metadata": {
      "needs_background": "light"
     },
     "output_type": "display_data"
    }
   ],
   "source": [
    "#Plot: CO2 Emissions per Year \n",
    "fig, ax = plt.subplots(figsize=(15,4))\n",
    "\n",
    "ax.scatter(clean_data[\"Year\"], clean_data[\"CO2\"], alpha = 0.8, edgecolors=\"k\", linewidth=1)\n",
    "\n",
    "#Labels\n",
    "ax.set_title(\"CO2 Emissions between 1990 and 2020\",fontsize=15) \n",
    "ax.set_xlabel(\"Years\", fontweight='bold')\n",
    "ax.set_ylabel(\"CO2 Emissions (Megatonnes)\", fontweight='bold')\n",
    "#ax.set_xlim(0, 9)\n",
    "ax.grid(True)\n",
    "ax.xaxis.grid(False, which='minor')\n",
    "#set the number of minor ticks between the major ticks\n",
    "ax.xaxis.set_minor_locator(AutoMinorLocator(5))\n",
    "\n",
    "#save the figure\n",
    "#plt.savefig(output_folder + \"9_EarthquakeMagnitudeVsPcOceanicEvent.png\", facecolor = 'white')\n",
    "plt.show()"
   ]
  },
  {
   "cell_type": "markdown",
   "metadata": {},
   "source": [
    "### Logarithmic chart"
   ]
  },
  {
   "cell_type": "code",
   "execution_count": 160,
   "metadata": {},
   "outputs": [
    {
     "data": {
      "image/png": "[encoded data removed]",
      "text/plain": [
       "<Figure size 864x288 with 1 Axes>"
      ]
     },
     "metadata": {
      "needs_background": "light"
     },
     "output_type": "display_data"
    }
   ],
   "source": [
    "# line Quebec\n",
    "labels = [clean_data['Year'].unique()]\n",
    "\n",
    "qc = clean_data[clean_data['Province']== 'Quebec'][['Year','Price']]\n",
    "fig, ax = plt.subplots(figsize=(12,4))\n",
    "\n",
    "ax.plot(qc.Year,qc.Price, color='r', label='Quebec')\n",
    "\n",
    "ax.grid(True)\n",
    "ax.xaxis.grid(False, which='minor')\n",
    "ax.xaxis.set_minor_locator(AutoMinorLocator(5))\n",
    "\n",
    "#Labels\n",
    "ax.set_title(\"Gas Prices Quebec between 1990 and 2020\",fontsize=15) \n",
    "ax.set_xlabel(\"Years\", fontweight='bold')\n",
    "ax.set_ylabel(\"Gas Price (Cents per L)\", fontweight='bold')\n",
    "ax.legend()\n",
    "plt.tight_layout()\n",
    "plt.show()"
   ]
  },
  {
   "cell_type": "code",
   "execution_count": null,
   "metadata": {},
   "outputs": [],
   "source": [
    "# 1998 prices went down, but emissions went UP  !!\n",
    "# 2009 both went down\n",
    "# 2008 both went up\n",
    "\n",
    "# almost same curve. VAries at beginning, emissions went up at far more steady rate as gas price rose slower."
   ]
  },
  {
   "cell_type": "code",
   "execution_count": null,
   "metadata": {},
   "outputs": [],
   "source": [
    "#### Quebec\n",
    "- 1998: gas prices dipped, emissions went up!\n",
    "- 2008: gas prices dipped from previous years\n",
    "- 2009: both went down, emissions more drastically than price, RECESSION at this time\n",
    "- 2015 major dip gas price, emissions still up, emissions 2011: 2015, stable, year after dip, (imposed env sanctions: ? 4 years before prices jumped)\n",
    "- 2016 further dip / emissions went down (not as many people buying?)\n",
    "- 2020 dip in prices overall  / emmisions went down  (pandemic, prices went down, no one driving)\n",
    "\n",
    "- Canada: Climate plans: 2015 : \n",
    "- Growing supply 2014-2016 of oil, price plumet , us market came in, slow down of exporters 70%\n",
    "- Emissions still steady at 2015\n",
    "\n",
    "- Then 2016 emissions plumet, with gas price"
   ]
  },
  {
   "cell_type": "code",
   "execution_count": 64,
   "metadata": {},
   "outputs": [
    {
     "ename": "NameError",
     "evalue": "name 'earthquake_mag' is not defined",
     "output_type": "error",
     "traceback": [
      "\u001b[0;31m---------------------------------------------------------------------------\u001b[0m",
      "\u001b[0;31mNameError\u001b[0m                                 Traceback (most recent call last)",
      "\u001b[0;32m<ipython-input-64-76b3bfd28ff4>\u001b[0m in \u001b[0;36m<module>\u001b[0;34m\u001b[0m\n\u001b[1;32m      4\u001b[0m \u001b[0;34m\u001b[0m\u001b[0m\n\u001b[1;32m      5\u001b[0m \u001b[0;31m# Make a separate list for each magnitude\u001b[0m\u001b[0;34m\u001b[0m\u001b[0;34m\u001b[0m\u001b[0;34m\u001b[0m\u001b[0m\n\u001b[0;32m----> 6\u001b[0;31m \u001b[0mx9\u001b[0m \u001b[0;34m=\u001b[0m \u001b[0mlist\u001b[0m\u001b[0;34m(\u001b[0m\u001b[0mearthquake_mag\u001b[0m\u001b[0;34m[\u001b[0m\u001b[0mearthquake_mag\u001b[0m\u001b[0;34m[\u001b[0m\u001b[0;34m'Magnitude'\u001b[0m\u001b[0;34m]\u001b[0m\u001b[0;34m>=\u001b[0m\u001b[0;36m9\u001b[0m\u001b[0;34m]\u001b[0m\u001b[0;34m[\u001b[0m\u001b[0;34m'Alert'\u001b[0m\u001b[0;34m]\u001b[0m\u001b[0;34m)\u001b[0m\u001b[0;34m\u001b[0m\u001b[0;34m\u001b[0m\u001b[0m\n\u001b[0m\u001b[1;32m      7\u001b[0m \u001b[0mx8\u001b[0m \u001b[0;34m=\u001b[0m \u001b[0mlist\u001b[0m\u001b[0;34m(\u001b[0m\u001b[0mearthquake_mag\u001b[0m\u001b[0;34m[\u001b[0m\u001b[0;34m(\u001b[0m\u001b[0mearthquake_mag\u001b[0m\u001b[0;34m[\u001b[0m\u001b[0;34m'Magnitude'\u001b[0m\u001b[0;34m]\u001b[0m\u001b[0;34m>=\u001b[0m\u001b[0;36m8\u001b[0m\u001b[0;34m)\u001b[0m \u001b[0;34m&\u001b[0m \u001b[0;34m(\u001b[0m\u001b[0mearthquake_mag\u001b[0m\u001b[0;34m[\u001b[0m\u001b[0;34m'Magnitude'\u001b[0m\u001b[0;34m]\u001b[0m\u001b[0;34m<\u001b[0m\u001b[0;36m9\u001b[0m\u001b[0;34m)\u001b[0m\u001b[0;34m]\u001b[0m\u001b[0;34m[\u001b[0m\u001b[0;34m'Alert'\u001b[0m\u001b[0;34m]\u001b[0m\u001b[0;34m)\u001b[0m\u001b[0;34m\u001b[0m\u001b[0;34m\u001b[0m\u001b[0m\n\u001b[1;32m      8\u001b[0m \u001b[0mx7\u001b[0m \u001b[0;34m=\u001b[0m \u001b[0mlist\u001b[0m\u001b[0;34m(\u001b[0m\u001b[0mearthquake_mag\u001b[0m\u001b[0;34m[\u001b[0m\u001b[0;34m(\u001b[0m\u001b[0mearthquake_mag\u001b[0m\u001b[0;34m[\u001b[0m\u001b[0;34m'Magnitude'\u001b[0m\u001b[0;34m]\u001b[0m\u001b[0;34m>=\u001b[0m\u001b[0;36m7\u001b[0m\u001b[0;34m)\u001b[0m \u001b[0;34m&\u001b[0m \u001b[0;34m(\u001b[0m\u001b[0mearthquake_mag\u001b[0m\u001b[0;34m[\u001b[0m\u001b[0;34m'Magnitude'\u001b[0m\u001b[0;34m]\u001b[0m\u001b[0;34m<\u001b[0m\u001b[0;36m8\u001b[0m\u001b[0;34m)\u001b[0m\u001b[0;34m]\u001b[0m\u001b[0;34m[\u001b[0m\u001b[0;34m'Alert'\u001b[0m\u001b[0;34m]\u001b[0m\u001b[0;34m)\u001b[0m\u001b[0;34m\u001b[0m\u001b[0;34m\u001b[0m\u001b[0m\n",
      "\u001b[0;31mNameError\u001b[0m: name 'earthquake_mag' is not defined"
     ]
    },
    {
     "data": {
      "text/plain": [
       "<Figure size 648x360 with 0 Axes>"
      ]
     },
     "metadata": {},
     "output_type": "display_data"
    }
   ],
   "source": [
    "#create a new column\n",
    "np.seterr(divide='ignore', invalid='ignore')\n",
    "plt.figure(figsize=(9,5))\n",
    "\n",
    "# Make a separate list for each magnitude\n",
    "x9 = list(earthquake_mag[earthquake_mag['Magnitude']>=9]['Alert'])\n",
    "x8 = list(earthquake_mag[(earthquake_mag['Magnitude']>=8) & (earthquake_mag['Magnitude']<9)]['Alert'])\n",
    "x7 = list(earthquake_mag[(earthquake_mag['Magnitude']>=7) & (earthquake_mag['Magnitude']<8)]['Alert'])\n",
    "x6 = list(earthquake_mag[(earthquake_mag['Magnitude']>=6) & (earthquake_mag['Magnitude']<7)]['Alert'])\n",
    "x5 = list(earthquake_mag[(earthquake_mag['Magnitude']>=5) & (earthquake_mag['Magnitude']<6)]['Alert'])\n",
    "x4 = list(earthquake_mag[(earthquake_mag['Magnitude']>=4) & (earthquake_mag['Magnitude']<5)]['Alert'])\n",
    "x3 = list(earthquake_mag[(earthquake_mag['Magnitude']>=3) & (earthquake_mag['Magnitude']<4)]['Alert'])\n",
    "x2 = list(earthquake_mag[(earthquake_mag['Magnitude']>=2) & (earthquake_mag['Magnitude']<3)]['Alert'])\n",
    "x1 = list(earthquake_mag[(earthquake_mag['Magnitude']>=1) & (earthquake_mag['Magnitude']<2)]['Alert'])\n",
    "x0 = list(earthquake_mag[(earthquake_mag['Magnitude']>=0) & (earthquake_mag['Magnitude']<1)]['Alert'])\n",
    "\n",
    "# Assign colors for each magnitude and the names\n",
    "colors = ['black', 'olive', 'cyan', 'pink', 'brown', 'green', 'blue', 'orange', 'purple', 'red']\n",
    "names = ['Mag 0', 'Mag 1', 'Mag 2', 'Mag 3', 'Mag 4','Mag 5', 'Mag 6', 'Mag 7', 'Mag 8', 'Mag 9']\n",
    "\n",
    "# Define the plot\n",
    "plt.hist([x0, x1, x2, x3, x4, x5, x6, x7, x8, x9], bins = 4, density=True,\n",
    "         color = colors, label=names) \n",
    "\n",
    "# assign labels\n",
    "plt.xlabel(\"Alert Levels\", fontsize=14, fontweight='bold')\n",
    "plt.ylabel(\"Density\", fontsize=14, fontweight='bold')\n",
    "plt.title(\"Density Histogram of Earthquake Alert Level Showing Magnitudes\",fontsize=14)\n",
    "\n",
    "\n",
    "plt.xticks(rotation=45)\n",
    "\n",
    "plt.legend(title='Legend',fancybox=True) \n",
    "plt.tight_layout()\n",
    "#save the figure\n",
    "plt.savefig(output_folder + \"8_DensityHistEQAlertWithMagnitudes.png\", facecolor = 'white')\n",
    "\n",
    "plt.show()"
   ]
  },
  {
   "cell_type": "code",
   "execution_count": 65,
   "metadata": {},
   "outputs": [
    {
     "ename": "AttributeError",
     "evalue": "'Rectangle' object has no property 'edgecolors'",
     "output_type": "error",
     "traceback": [
      "\u001b[0;31m---------------------------------------------------------------------------\u001b[0m",
      "\u001b[0;31mAttributeError\u001b[0m                            Traceback (most recent call last)",
      "\u001b[0;32m<ipython-input-65-d0518b54481d>\u001b[0m in \u001b[0;36m<module>\u001b[0;34m\u001b[0m\n\u001b[1;32m     13\u001b[0m \u001b[0;34m\u001b[0m\u001b[0m\n\u001b[1;32m     14\u001b[0m ax.hist([x0,x1,x2,x3], bins=31, density=True, alpha = 0.8, edgecolors=\"k\", \n\u001b[0;32m---> 15\u001b[0;31m            linewidth=1, color=colors, label=names)\n\u001b[0m\u001b[1;32m     16\u001b[0m \u001b[0;34m\u001b[0m\u001b[0m\n\u001b[1;32m     17\u001b[0m \u001b[0;31m#Labels\u001b[0m\u001b[0;34m\u001b[0m\u001b[0;34m\u001b[0m\u001b[0;34m\u001b[0m\u001b[0m\n",
      "\u001b[0;32m~/opt/anaconda3/envs/PythonData/lib/python3.6/site-packages/matplotlib/__init__.py\u001b[0m in \u001b[0;36minner\u001b[0;34m(ax, data, *args, **kwargs)\u001b[0m\n\u001b[1;32m   1445\u001b[0m     \u001b[0;32mdef\u001b[0m \u001b[0minner\u001b[0m\u001b[0;34m(\u001b[0m\u001b[0max\u001b[0m\u001b[0;34m,\u001b[0m \u001b[0;34m*\u001b[0m\u001b[0margs\u001b[0m\u001b[0;34m,\u001b[0m \u001b[0mdata\u001b[0m\u001b[0;34m=\u001b[0m\u001b[0;32mNone\u001b[0m\u001b[0;34m,\u001b[0m \u001b[0;34m**\u001b[0m\u001b[0mkwargs\u001b[0m\u001b[0;34m)\u001b[0m\u001b[0;34m:\u001b[0m\u001b[0;34m\u001b[0m\u001b[0;34m\u001b[0m\u001b[0m\n\u001b[1;32m   1446\u001b[0m         \u001b[0;32mif\u001b[0m \u001b[0mdata\u001b[0m \u001b[0;32mis\u001b[0m \u001b[0;32mNone\u001b[0m\u001b[0;34m:\u001b[0m\u001b[0;34m\u001b[0m\u001b[0;34m\u001b[0m\u001b[0m\n\u001b[0;32m-> 1447\u001b[0;31m             \u001b[0;32mreturn\u001b[0m \u001b[0mfunc\u001b[0m\u001b[0;34m(\u001b[0m\u001b[0max\u001b[0m\u001b[0;34m,\u001b[0m \u001b[0;34m*\u001b[0m\u001b[0mmap\u001b[0m\u001b[0;34m(\u001b[0m\u001b[0msanitize_sequence\u001b[0m\u001b[0;34m,\u001b[0m \u001b[0margs\u001b[0m\u001b[0;34m)\u001b[0m\u001b[0;34m,\u001b[0m \u001b[0;34m**\u001b[0m\u001b[0mkwargs\u001b[0m\u001b[0;34m)\u001b[0m\u001b[0;34m\u001b[0m\u001b[0;34m\u001b[0m\u001b[0m\n\u001b[0m\u001b[1;32m   1448\u001b[0m \u001b[0;34m\u001b[0m\u001b[0m\n\u001b[1;32m   1449\u001b[0m         \u001b[0mbound\u001b[0m \u001b[0;34m=\u001b[0m \u001b[0mnew_sig\u001b[0m\u001b[0;34m.\u001b[0m\u001b[0mbind\u001b[0m\u001b[0;34m(\u001b[0m\u001b[0max\u001b[0m\u001b[0;34m,\u001b[0m \u001b[0;34m*\u001b[0m\u001b[0margs\u001b[0m\u001b[0;34m,\u001b[0m \u001b[0;34m**\u001b[0m\u001b[0mkwargs\u001b[0m\u001b[0;34m)\u001b[0m\u001b[0;34m\u001b[0m\u001b[0;34m\u001b[0m\u001b[0m\n",
      "\u001b[0;32m~/opt/anaconda3/envs/PythonData/lib/python3.6/site-packages/matplotlib/axes/_axes.py\u001b[0m in \u001b[0;36mhist\u001b[0;34m(self, x, bins, range, density, weights, cumulative, bottom, histtype, align, orientation, rwidth, log, color, label, stacked, **kwargs)\u001b[0m\n\u001b[1;32m   6813\u001b[0m             \u001b[0;32mif\u001b[0m \u001b[0mpatch\u001b[0m\u001b[0;34m:\u001b[0m\u001b[0;34m\u001b[0m\u001b[0;34m\u001b[0m\u001b[0m\n\u001b[1;32m   6814\u001b[0m                 \u001b[0mp\u001b[0m \u001b[0;34m=\u001b[0m \u001b[0mpatch\u001b[0m\u001b[0;34m[\u001b[0m\u001b[0;36m0\u001b[0m\u001b[0;34m]\u001b[0m\u001b[0;34m\u001b[0m\u001b[0;34m\u001b[0m\u001b[0m\n\u001b[0;32m-> 6815\u001b[0;31m                 \u001b[0mp\u001b[0m\u001b[0;34m.\u001b[0m\u001b[0mupdate\u001b[0m\u001b[0;34m(\u001b[0m\u001b[0mkwargs\u001b[0m\u001b[0;34m)\u001b[0m\u001b[0;34m\u001b[0m\u001b[0;34m\u001b[0m\u001b[0m\n\u001b[0m\u001b[1;32m   6816\u001b[0m                 \u001b[0;32mif\u001b[0m \u001b[0mlbl\u001b[0m \u001b[0;32mis\u001b[0m \u001b[0;32mnot\u001b[0m \u001b[0;32mNone\u001b[0m\u001b[0;34m:\u001b[0m\u001b[0;34m\u001b[0m\u001b[0;34m\u001b[0m\u001b[0m\n\u001b[1;32m   6817\u001b[0m                     \u001b[0mp\u001b[0m\u001b[0;34m.\u001b[0m\u001b[0mset_label\u001b[0m\u001b[0;34m(\u001b[0m\u001b[0mlbl\u001b[0m\u001b[0;34m)\u001b[0m\u001b[0;34m\u001b[0m\u001b[0;34m\u001b[0m\u001b[0m\n",
      "\u001b[0;32m~/opt/anaconda3/envs/PythonData/lib/python3.6/site-packages/matplotlib/artist.py\u001b[0m in \u001b[0;36mupdate\u001b[0;34m(self, props)\u001b[0m\n\u001b[1;32m    994\u001b[0m                     \u001b[0mfunc\u001b[0m \u001b[0;34m=\u001b[0m \u001b[0mgetattr\u001b[0m\u001b[0;34m(\u001b[0m\u001b[0mself\u001b[0m\u001b[0;34m,\u001b[0m \u001b[0;34mf\"set_{k}\"\u001b[0m\u001b[0;34m,\u001b[0m \u001b[0;32mNone\u001b[0m\u001b[0;34m)\u001b[0m\u001b[0;34m\u001b[0m\u001b[0;34m\u001b[0m\u001b[0m\n\u001b[1;32m    995\u001b[0m                     \u001b[0;32mif\u001b[0m \u001b[0;32mnot\u001b[0m \u001b[0mcallable\u001b[0m\u001b[0;34m(\u001b[0m\u001b[0mfunc\u001b[0m\u001b[0;34m)\u001b[0m\u001b[0;34m:\u001b[0m\u001b[0;34m\u001b[0m\u001b[0;34m\u001b[0m\u001b[0m\n\u001b[0;32m--> 996\u001b[0;31m                         raise AttributeError(f\"{type(self).__name__!r} object \"\n\u001b[0m\u001b[1;32m    997\u001b[0m                                              f\"has no property {k!r}\")\n\u001b[1;32m    998\u001b[0m                     \u001b[0mret\u001b[0m\u001b[0;34m.\u001b[0m\u001b[0mappend\u001b[0m\u001b[0;34m(\u001b[0m\u001b[0mfunc\u001b[0m\u001b[0;34m(\u001b[0m\u001b[0mv\u001b[0m\u001b[0;34m)\u001b[0m\u001b[0;34m)\u001b[0m\u001b[0;34m\u001b[0m\u001b[0;34m\u001b[0m\u001b[0m\n",
      "\u001b[0;31mAttributeError\u001b[0m: 'Rectangle' object has no property 'edgecolors'"
     ]
    },
    {
     "data": {
      "image/png": "[encoded data removed]",
      "text/plain": [
       "<Figure size 1080x288 with 1 Axes>"
      ]
     },
     "metadata": {
      "needs_background": "light"
     },
     "output_type": "display_data"
    }
   ],
   "source": [
    "# AS HISTOGRAM WILL NOT BE NEEDED\n",
    "#Plot: CO2 Emissions per Year \n",
    "fig, ax = plt.subplots(figsize=(15,4))\n",
    "\n",
    "\n",
    "x0 = list(clean_data[clean_data['Province']== 'Ontario']['Year'])\n",
    "x1 = list(clean_data[clean_data['Province']== 'British Columbia']['Year'])\n",
    "x2 = list(clean_data[clean_data['Province']== 'Alberta']['Year'])\n",
    "x3 = list(clean_data[clean_data['Province']== 'Quebec']['Year'])\n",
    "\n",
    "colors = ['blue','green','orange','purple']\n",
    "names = ['Ontario','British Columbia','Alberta','Quebec']\n",
    "\n",
    "\n",
    "ax.hist([x0,x1,x2,x3], bins=31, density=True, alpha = 0.8, edgecolors=\"k\", \n",
    "           linewidth=1, color=colors, label=names)\n",
    "\n",
    "#Labels\n",
    "ax.set_title(\"Gas Prices between 1990 and 2020\",fontsize=15) \n",
    "ax.set_xlabel(\"Years\", fontweight='bold')\n",
    "ax.set_ylabel(\"Gas Price (Cents per L)\", fontweight='bold')\n",
    "#ax.set_xlim(0, 9)\n",
    "ax.grid(True)\n",
    "#ax.xaxis.grid(False, which='minor')\n",
    "#set the number of minor ticks between the major ticks\n",
    "#ax.xaxis.set_minor_locator(AutoMinorLocator(10))\n",
    "\n",
    "plt.legend(title='Legend',fancybox=True) \n",
    "plt.tight_layout()\n",
    "\n",
    "#save the figure\n",
    "#plt.savefig(output_folder + \"9_EarthquakeMagnitudeVsPcOceanicEvent.png\", facecolor = 'white')\n",
    "plt.show()"
   ]
  },
  {
   "cell_type": "code",
   "execution_count": 112,
   "metadata": {},
   "outputs": [
    {
     "ename": "ValueError",
     "evalue": "'o' is neither a valid single color nor a color sequence consisting of single character color specifiers such as 'rgb'. Note also that the latter is deprecated.",
     "output_type": "error",
     "traceback": [
      "\u001b[0;31m---------------------------------------------------------------------------\u001b[0m",
      "\u001b[0;31mValueError\u001b[0m                                Traceback (most recent call last)",
      "\u001b[0;32m~/opt/anaconda3/envs/PythonData/lib/python3.6/site-packages/matplotlib/colors.py\u001b[0m in \u001b[0;36mto_rgba_array\u001b[0;34m(c, alpha)\u001b[0m\n\u001b[1;32m    324\u001b[0m         \u001b[0;32mtry\u001b[0m\u001b[0;34m:\u001b[0m\u001b[0;34m\u001b[0m\u001b[0;34m\u001b[0m\u001b[0m\n\u001b[0;32m--> 325\u001b[0;31m             \u001b[0mresult\u001b[0m \u001b[0;34m=\u001b[0m \u001b[0mnp\u001b[0m\u001b[0;34m.\u001b[0m\u001b[0marray\u001b[0m\u001b[0;34m(\u001b[0m\u001b[0;34m[\u001b[0m\u001b[0mto_rgba\u001b[0m\u001b[0;34m(\u001b[0m\u001b[0mcc\u001b[0m\u001b[0;34m,\u001b[0m \u001b[0malpha\u001b[0m\u001b[0;34m)\u001b[0m \u001b[0;32mfor\u001b[0m \u001b[0mcc\u001b[0m \u001b[0;32min\u001b[0m \u001b[0mc\u001b[0m\u001b[0;34m]\u001b[0m\u001b[0;34m)\u001b[0m\u001b[0;34m\u001b[0m\u001b[0;34m\u001b[0m\u001b[0m\n\u001b[0m\u001b[1;32m    326\u001b[0m         \u001b[0;32mexcept\u001b[0m \u001b[0mValueError\u001b[0m \u001b[0;32mas\u001b[0m \u001b[0merr\u001b[0m\u001b[0;34m:\u001b[0m\u001b[0;34m\u001b[0m\u001b[0;34m\u001b[0m\u001b[0m\n",
      "\u001b[0;32m~/opt/anaconda3/envs/PythonData/lib/python3.6/site-packages/matplotlib/colors.py\u001b[0m in \u001b[0;36m<listcomp>\u001b[0;34m(.0)\u001b[0m\n\u001b[1;32m    324\u001b[0m         \u001b[0;32mtry\u001b[0m\u001b[0;34m:\u001b[0m\u001b[0;34m\u001b[0m\u001b[0;34m\u001b[0m\u001b[0m\n\u001b[0;32m--> 325\u001b[0;31m             \u001b[0mresult\u001b[0m \u001b[0;34m=\u001b[0m \u001b[0mnp\u001b[0m\u001b[0;34m.\u001b[0m\u001b[0marray\u001b[0m\u001b[0;34m(\u001b[0m\u001b[0;34m[\u001b[0m\u001b[0mto_rgba\u001b[0m\u001b[0;34m(\u001b[0m\u001b[0mcc\u001b[0m\u001b[0;34m,\u001b[0m \u001b[0malpha\u001b[0m\u001b[0;34m)\u001b[0m \u001b[0;32mfor\u001b[0m \u001b[0mcc\u001b[0m \u001b[0;32min\u001b[0m \u001b[0mc\u001b[0m\u001b[0;34m]\u001b[0m\u001b[0;34m)\u001b[0m\u001b[0;34m\u001b[0m\u001b[0;34m\u001b[0m\u001b[0m\n\u001b[0m\u001b[1;32m    326\u001b[0m         \u001b[0;32mexcept\u001b[0m \u001b[0mValueError\u001b[0m \u001b[0;32mas\u001b[0m \u001b[0merr\u001b[0m\u001b[0;34m:\u001b[0m\u001b[0;34m\u001b[0m\u001b[0;34m\u001b[0m\u001b[0m\n",
      "\u001b[0;32m~/opt/anaconda3/envs/PythonData/lib/python3.6/site-packages/matplotlib/colors.py\u001b[0m in \u001b[0;36mto_rgba\u001b[0;34m(c, alpha)\u001b[0m\n\u001b[1;32m    188\u001b[0m     \u001b[0;32mif\u001b[0m \u001b[0mrgba\u001b[0m \u001b[0;32mis\u001b[0m \u001b[0;32mNone\u001b[0m\u001b[0;34m:\u001b[0m  \u001b[0;31m# Suppress exception chaining of cache lookup failure.\u001b[0m\u001b[0;34m\u001b[0m\u001b[0;34m\u001b[0m\u001b[0m\n\u001b[0;32m--> 189\u001b[0;31m         \u001b[0mrgba\u001b[0m \u001b[0;34m=\u001b[0m \u001b[0m_to_rgba_no_colorcycle\u001b[0m\u001b[0;34m(\u001b[0m\u001b[0mc\u001b[0m\u001b[0;34m,\u001b[0m \u001b[0malpha\u001b[0m\u001b[0;34m)\u001b[0m\u001b[0;34m\u001b[0m\u001b[0;34m\u001b[0m\u001b[0m\n\u001b[0m\u001b[1;32m    190\u001b[0m         \u001b[0;32mtry\u001b[0m\u001b[0;34m:\u001b[0m\u001b[0;34m\u001b[0m\u001b[0;34m\u001b[0m\u001b[0m\n",
      "\u001b[0;32m~/opt/anaconda3/envs/PythonData/lib/python3.6/site-packages/matplotlib/colors.py\u001b[0m in \u001b[0;36m_to_rgba_no_colorcycle\u001b[0;34m(c, alpha)\u001b[0m\n\u001b[1;32m    259\u001b[0m             \u001b[0;32mreturn\u001b[0m \u001b[0mc\u001b[0m\u001b[0;34m,\u001b[0m \u001b[0mc\u001b[0m\u001b[0;34m,\u001b[0m \u001b[0mc\u001b[0m\u001b[0;34m,\u001b[0m \u001b[0malpha\u001b[0m \u001b[0;32mif\u001b[0m \u001b[0malpha\u001b[0m \u001b[0;32mis\u001b[0m \u001b[0;32mnot\u001b[0m \u001b[0;32mNone\u001b[0m \u001b[0;32melse\u001b[0m \u001b[0;36m1.\u001b[0m\u001b[0;34m\u001b[0m\u001b[0;34m\u001b[0m\u001b[0m\n\u001b[0;32m--> 260\u001b[0;31m         \u001b[0;32mraise\u001b[0m \u001b[0mValueError\u001b[0m\u001b[0;34m(\u001b[0m\u001b[0;34mf\"Invalid RGBA argument: {orig_c!r}\"\u001b[0m\u001b[0;34m)\u001b[0m\u001b[0;34m\u001b[0m\u001b[0;34m\u001b[0m\u001b[0m\n\u001b[0m\u001b[1;32m    261\u001b[0m     \u001b[0;31m# tuple color.\u001b[0m\u001b[0;34m\u001b[0m\u001b[0;34m\u001b[0m\u001b[0;34m\u001b[0m\u001b[0m\n",
      "\u001b[0;31mValueError\u001b[0m: Invalid RGBA argument: 'o'",
      "\nThe above exception was the direct cause of the following exception:\n",
      "\u001b[0;31mValueError\u001b[0m                                Traceback (most recent call last)",
      "\u001b[0;32m<ipython-input-112-26b38bc731ff>\u001b[0m in \u001b[0;36m<module>\u001b[0;34m\u001b[0m\n\u001b[1;32m     15\u001b[0m \u001b[0mbc\u001b[0m \u001b[0;34m=\u001b[0m \u001b[0max\u001b[0m\u001b[0;34m.\u001b[0m\u001b[0mbar\u001b[0m\u001b[0;34m(\u001b[0m\u001b[0mx\u001b[0m \u001b[0;34m+\u001b[0m \u001b[0;36m0.25\u001b[0m\u001b[0;34m,\u001b[0m \u001b[0mx1\u001b[0m\u001b[0;34m,\u001b[0m \u001b[0mcolor\u001b[0m\u001b[0;34m=\u001b[0m\u001b[0;34m'r'\u001b[0m\u001b[0;34m,\u001b[0m \u001b[0mlabel\u001b[0m\u001b[0;34m=\u001b[0m\u001b[0;34m'British Columbia'\u001b[0m\u001b[0;34m)\u001b[0m\u001b[0;34m\u001b[0m\u001b[0;34m\u001b[0m\u001b[0m\n\u001b[1;32m     16\u001b[0m \u001b[0malb\u001b[0m \u001b[0;34m=\u001b[0m \u001b[0max\u001b[0m\u001b[0;34m.\u001b[0m\u001b[0mbar\u001b[0m\u001b[0;34m(\u001b[0m\u001b[0mx\u001b[0m \u001b[0;34m+\u001b[0m \u001b[0;36m0.50\u001b[0m\u001b[0;34m,\u001b[0m \u001b[0mx2\u001b[0m\u001b[0;34m,\u001b[0m \u001b[0mcolor\u001b[0m\u001b[0;34m=\u001b[0m\u001b[0;34m'g'\u001b[0m\u001b[0;34m,\u001b[0m \u001b[0mlabel\u001b[0m\u001b[0;34m=\u001b[0m\u001b[0;34m'Alberta'\u001b[0m\u001b[0;34m)\u001b[0m\u001b[0;34m\u001b[0m\u001b[0;34m\u001b[0m\u001b[0m\n\u001b[0;32m---> 17\u001b[0;31m \u001b[0mqc\u001b[0m \u001b[0;34m=\u001b[0m \u001b[0max\u001b[0m\u001b[0;34m.\u001b[0m\u001b[0mbar\u001b[0m\u001b[0;34m(\u001b[0m\u001b[0mx\u001b[0m \u001b[0;34m+\u001b[0m \u001b[0;36m0.75\u001b[0m\u001b[0;34m,\u001b[0m \u001b[0mx3\u001b[0m\u001b[0;34m,\u001b[0m \u001b[0mcolor\u001b[0m\u001b[0;34m=\u001b[0m\u001b[0;34m'o'\u001b[0m\u001b[0;34m,\u001b[0m \u001b[0mlabel\u001b[0m\u001b[0;34m=\u001b[0m\u001b[0;34m'Quebec'\u001b[0m\u001b[0;34m)\u001b[0m\u001b[0;34m\u001b[0m\u001b[0;34m\u001b[0m\u001b[0m\n\u001b[0m\u001b[1;32m     18\u001b[0m \u001b[0;34m\u001b[0m\u001b[0m\n\u001b[1;32m     19\u001b[0m \u001b[0;31m#Labels\u001b[0m\u001b[0;34m\u001b[0m\u001b[0;34m\u001b[0m\u001b[0;34m\u001b[0m\u001b[0m\n",
      "\u001b[0;32m~/opt/anaconda3/envs/PythonData/lib/python3.6/site-packages/matplotlib/__init__.py\u001b[0m in \u001b[0;36minner\u001b[0;34m(ax, data, *args, **kwargs)\u001b[0m\n\u001b[1;32m   1445\u001b[0m     \u001b[0;32mdef\u001b[0m \u001b[0minner\u001b[0m\u001b[0;34m(\u001b[0m\u001b[0max\u001b[0m\u001b[0;34m,\u001b[0m \u001b[0;34m*\u001b[0m\u001b[0margs\u001b[0m\u001b[0;34m,\u001b[0m \u001b[0mdata\u001b[0m\u001b[0;34m=\u001b[0m\u001b[0;32mNone\u001b[0m\u001b[0;34m,\u001b[0m \u001b[0;34m**\u001b[0m\u001b[0mkwargs\u001b[0m\u001b[0;34m)\u001b[0m\u001b[0;34m:\u001b[0m\u001b[0;34m\u001b[0m\u001b[0;34m\u001b[0m\u001b[0m\n\u001b[1;32m   1446\u001b[0m         \u001b[0;32mif\u001b[0m \u001b[0mdata\u001b[0m \u001b[0;32mis\u001b[0m \u001b[0;32mNone\u001b[0m\u001b[0;34m:\u001b[0m\u001b[0;34m\u001b[0m\u001b[0;34m\u001b[0m\u001b[0m\n\u001b[0;32m-> 1447\u001b[0;31m             \u001b[0;32mreturn\u001b[0m \u001b[0mfunc\u001b[0m\u001b[0;34m(\u001b[0m\u001b[0max\u001b[0m\u001b[0;34m,\u001b[0m \u001b[0;34m*\u001b[0m\u001b[0mmap\u001b[0m\u001b[0;34m(\u001b[0m\u001b[0msanitize_sequence\u001b[0m\u001b[0;34m,\u001b[0m \u001b[0margs\u001b[0m\u001b[0;34m)\u001b[0m\u001b[0;34m,\u001b[0m \u001b[0;34m**\u001b[0m\u001b[0mkwargs\u001b[0m\u001b[0;34m)\u001b[0m\u001b[0;34m\u001b[0m\u001b[0;34m\u001b[0m\u001b[0m\n\u001b[0m\u001b[1;32m   1448\u001b[0m \u001b[0;34m\u001b[0m\u001b[0m\n\u001b[1;32m   1449\u001b[0m         \u001b[0mbound\u001b[0m \u001b[0;34m=\u001b[0m \u001b[0mnew_sig\u001b[0m\u001b[0;34m.\u001b[0m\u001b[0mbind\u001b[0m\u001b[0;34m(\u001b[0m\u001b[0max\u001b[0m\u001b[0;34m,\u001b[0m \u001b[0;34m*\u001b[0m\u001b[0margs\u001b[0m\u001b[0;34m,\u001b[0m \u001b[0;34m**\u001b[0m\u001b[0mkwargs\u001b[0m\u001b[0;34m)\u001b[0m\u001b[0;34m\u001b[0m\u001b[0;34m\u001b[0m\u001b[0m\n",
      "\u001b[0;32m~/opt/anaconda3/envs/PythonData/lib/python3.6/site-packages/matplotlib/axes/_axes.py\u001b[0m in \u001b[0;36mbar\u001b[0;34m(self, x, height, width, bottom, align, **kwargs)\u001b[0m\n\u001b[1;32m   2441\u001b[0m \u001b[0;34m\u001b[0m\u001b[0m\n\u001b[1;32m   2442\u001b[0m         \u001b[0mlinewidth\u001b[0m \u001b[0;34m=\u001b[0m \u001b[0mitertools\u001b[0m\u001b[0;34m.\u001b[0m\u001b[0mcycle\u001b[0m\u001b[0;34m(\u001b[0m\u001b[0mnp\u001b[0m\u001b[0;34m.\u001b[0m\u001b[0matleast_1d\u001b[0m\u001b[0;34m(\u001b[0m\u001b[0mlinewidth\u001b[0m\u001b[0;34m)\u001b[0m\u001b[0;34m)\u001b[0m\u001b[0;34m\u001b[0m\u001b[0;34m\u001b[0m\u001b[0m\n\u001b[0;32m-> 2443\u001b[0;31m         color = itertools.chain(itertools.cycle(mcolors.to_rgba_array(color)),\n\u001b[0m\u001b[1;32m   2444\u001b[0m                                 \u001b[0;31m# Fallback if color == \"none\".\u001b[0m\u001b[0;34m\u001b[0m\u001b[0;34m\u001b[0m\u001b[0;34m\u001b[0m\u001b[0m\n\u001b[1;32m   2445\u001b[0m                                 itertools.repeat('none'))\n",
      "\u001b[0;32m~/opt/anaconda3/envs/PythonData/lib/python3.6/site-packages/matplotlib/colors.py\u001b[0m in \u001b[0;36mto_rgba_array\u001b[0;34m(c, alpha)\u001b[0m\n\u001b[1;32m    328\u001b[0m                 \u001b[0;34m\"'%s' is neither a valid single color nor a color sequence \"\u001b[0m\u001b[0;34m\u001b[0m\u001b[0;34m\u001b[0m\u001b[0m\n\u001b[1;32m    329\u001b[0m                 \u001b[0;34m\"consisting of single character color specifiers such as \"\u001b[0m\u001b[0;34m\u001b[0m\u001b[0;34m\u001b[0m\u001b[0m\n\u001b[0;32m--> 330\u001b[0;31m                 \"'rgb'. Note also that the latter is deprecated.\" % c) from err\n\u001b[0m\u001b[1;32m    331\u001b[0m         \u001b[0;32melse\u001b[0m\u001b[0;34m:\u001b[0m\u001b[0;34m\u001b[0m\u001b[0;34m\u001b[0m\u001b[0m\n\u001b[1;32m    332\u001b[0m             cbook.warn_deprecated(\n",
      "\u001b[0;31mValueError\u001b[0m: 'o' is neither a valid single color nor a color sequence consisting of single character color specifiers such as 'rgb'. Note also that the latter is deprecated."
     ]
    },
    {
     "data": {
      "image/png": "[encoded data removed]",
      "text/plain": [
       "<Figure size 432x288 with 1 Axes>"
      ]
     },
     "metadata": {
      "needs_background": "light"
     },
     "output_type": "display_data"
    }
   ],
   "source": [
    "\n",
    "# as bar chart: NOT WORKING\n",
    "labels = [clean_data['Year'].unique()]\n",
    "\n",
    "x0 = list(clean_data[clean_data['Province']== 'Ontario']['Price'])\n",
    "x1 = list(clean_data[clean_data['Province']== 'British Columbia']['Price'])\n",
    "x2 = list(clean_data[clean_data['Province']== 'Alberta']['Price'])\n",
    "x3 = list(clean_data[clean_data['Province']== 'Quebec']['Price'])\n",
    "\n",
    "width = 0.03\n",
    "x=np.arange(31)\n",
    "\n",
    "fig, ax = plt.subplots()\n",
    "\n",
    "ont = ax.bar(x + 0.00, x0, color='b', label='Ontario')\n",
    "bc = ax.bar(x + 0.25, x1, color='r', label='British Columbia')\n",
    "alb = ax.bar(x + 0.50, x2, color='g', label='Alberta')\n",
    "qc = ax.bar(x + 0.75, x3, color='o', label='Quebec')\n",
    "\n",
    "#Labels\n",
    "ax.set_title(\"Gas Prices between 1990 and 2020\",fontsize=15) \n",
    "ax.set_xlabel(\"Years\", fontweight='bold')\n",
    "ax.set_ylabel(\"Gas Price (Cents per L)\", fontweight='bold')\n",
    "ax.legend()\n",
    "\n",
    "# ax.bar_label(ont, padding=3)\n",
    "# ax.bar_label(bc, padding=3)\n",
    "# ax.bar_label(alb, padding=3)\n",
    "# ax.bar_label(qc, padding=3)\n",
    "\n",
    "fig.tight_layout()\n",
    "plt.show()\n"
   ]
  },
  {
   "cell_type": "code",
   "execution_count": 67,
   "metadata": {},
   "outputs": [
    {
     "data": {
      "text/plain": [
       "[array([1990, 1991, 1992, 1993, 1994, 1995, 1996, 1997, 1998, 1999, 2000,\n",
       "        2001, 2002, 2003, 2004, 2005, 2006, 2007, 2008, 2009, 2010, 2011,\n",
       "        2012, 2013, 2014, 2015, 2016, 2017, 2018, 2019, 2020])]"
      ]
     },
     "execution_count": 67,
     "metadata": {},
     "output_type": "execute_result"
    }
   ],
   "source": [
    "labels"
   ]
  },
  {
   "cell_type": "code",
   "execution_count": 118,
   "metadata": {},
   "outputs": [
    {
     "data": {
      "image/png": "[encoded data removed]",
      "text/plain": [
       "<Figure size 720x360 with 1 Axes>"
      ]
     },
     "metadata": {
      "needs_background": "light"
     },
     "output_type": "display_data"
    }
   ],
   "source": [
    "# sherry test\n",
    "#x = [clean_data['Year'].unique()]\n",
    "\n",
    "\n",
    "x0 = list(clean_data[clean_data['Province']== 'Ontario']['Price'])\n",
    "x1 = list(clean_data[clean_data['Province']== 'British Columbia']['Price'])\n",
    "x2 = list(clean_data[clean_data['Province']== 'Alberta']['Price'])\n",
    "x3 = list(clean_data[clean_data['Province']== 'Quebec']['Price'])\n",
    "\n",
    "width = 0.03\n",
    "#x = len([clean_data['Year'].unique()])\n",
    "indices = np.arange(len([clean_data['Year'].unique()]))\n",
    "x = len(clean_data['Year'].unique())\n",
    "\n",
    "fig, ax = plt.subplots(figsize=(10,5))\n",
    "\n",
    "ont = ax.bar(x + 0.00, x0, color='b', label='Ontario')\n",
    "bc = ax.bar(x + 0.3, x1, color='r', label='British Columbia')\n",
    "alb = ax.bar(x + 0.6, x2, color='g', label='Alberta')\n",
    "qc = ax.bar(x + 0.9, x3, color='y', label='Quebec')\n",
    "\n",
    "#Labels\n",
    "ax.set_title(\"Gas Prices between 1990 and 2020\",fontsize=15) \n",
    "ax.set_xlabel(\"Years\", fontweight='bold')\n",
    "ax.set_ylabel(\"Gas Price (Cents per L)\", fontweight='bold')\n",
    "ax.legend()\n",
    "\n",
    "# not working, need a way to pad? or seperate more\n",
    "# ax.bar_label(ont, padding=3)\n",
    "# ax.bar_label(bc, padding=3)\n",
    "# ax.bar_label(alb, padding=3)\n",
    "# ax.bar_label(qc, padding=3)\n",
    "\n",
    "# correct the x ticks to have the labels for 1990-2020\n",
    "# plt.xticks(indices+width/2., \n",
    "#            ['T{}'.format(i) for i in range(len(highPower))] )\n",
    "\n",
    "fig.tight_layout()\n",
    "plt.show()\n"
   ]
  },
  {
   "cell_type": "code",
   "execution_count": 137,
   "metadata": {},
   "outputs": [
    {
     "data": {
      "image/png": "[encoded data removed]",
      "text/plain": [
       "<Figure size 432x288 with 1 Axes>"
      ]
     },
     "metadata": {
      "needs_background": "light"
     },
     "output_type": "display_data"
    }
   ],
   "source": [
    "# bar ONTARIO\n",
    "\n",
    "labels = [clean_data['Year'].unique()]\n",
    "on = clean_data[clean_data['Province']== 'Ontario'][['Year','Price']]\n",
    "\n",
    "fig, ax = plt.subplots()\n",
    "\n",
    "ont = ax.bar(x=on.Year,height=on.Price, color='b', label='Ontario')\n",
    "\n",
    "\n",
    "#Labels\n",
    "ax.set_title(\"Gas Prices ONTARIO between 1990 and 2020\",fontsize=15) \n",
    "ax.set_xlabel(\"Years\", fontweight='bold')\n",
    "ax.set_ylabel(\"Gas Price (Cents per L)\", fontweight='bold')\n",
    "ax.legend()\n",
    "plt.tight_layout()\n",
    "plt.show()\n"
   ]
  },
  {
   "cell_type": "code",
   "execution_count": 138,
   "metadata": {},
   "outputs": [
    {
     "data": {
      "image/png": "[encoded data removed]",
      "text/plain": [
       "<Figure size 432x288 with 1 Axes>"
      ]
     },
     "metadata": {
      "needs_background": "light"
     },
     "output_type": "display_data"
    }
   ],
   "source": [
    "# bar BC\n",
    "labels = [clean_data['Year'].unique()]\n",
    "\n",
    "bc = clean_data[clean_data['Province']== 'British Columbia'][['Year','Price']]\n",
    "fig, ax = plt.subplots()\n",
    "\n",
    "bcb = ax.bar(x=bc.Year,height=bc.Price, color='g', label='British Columbia')\n",
    "\n",
    "#Labels\n",
    "ax.set_title(\"Gas Prices B.C. between 1990 and 2020\",fontsize=15) \n",
    "ax.set_xlabel(\"Years\", fontweight='bold')\n",
    "ax.set_ylabel(\"Gas Price (Cents per L)\", fontweight='bold')\n",
    "ax.legend()\n",
    "plt.tight_layout()\n",
    "plt.show()\n"
   ]
  },
  {
   "cell_type": "code",
   "execution_count": 140,
   "metadata": {},
   "outputs": [
    {
     "data": {
      "image/png": "[encoded data removed]",
      "text/plain": [
       "<Figure size 432x288 with 1 Axes>"
      ]
     },
     "metadata": {
      "needs_background": "light"
     },
     "output_type": "display_data"
    }
   ],
   "source": [
    "# bar Alberta\n",
    "labels = [clean_data['Year'].unique()]\n",
    "\n",
    "ab = clean_data[clean_data['Province']== 'Alberta'][['Year','Price']]\n",
    "fig, ax = plt.subplots()\n",
    "\n",
    "abb = ax.bar(x=ab.Year,height=ab.Price, color='y', label='British Columbia')\n",
    "\n",
    "#Labels\n",
    "ax.set_title(\"Gas Prices Alberta between 1990 and 2020\",fontsize=15) \n",
    "ax.set_xlabel(\"Years\", fontweight='bold')\n",
    "ax.set_ylabel(\"Gas Price (Cents per L)\", fontweight='bold')\n",
    "ax.legend()\n",
    "plt.tight_layout()\n",
    "plt.show()"
   ]
  },
  {
   "cell_type": "code",
   "execution_count": 151,
   "metadata": {},
   "outputs": [
    {
     "data": {
      "image/png": "[encoded data removed]",
      "text/plain": [
       "<Figure size 432x288 with 1 Axes>"
      ]
     },
     "metadata": {
      "needs_background": "light"
     },
     "output_type": "display_data"
    }
   ],
   "source": [
    "# bar Quebec\n",
    "labels = [clean_data['Year'].unique()]\n",
    "\n",
    "qc = clean_data[clean_data['Province']== 'Quebec'][['Year','Price']]\n",
    "fig, ax = plt.subplots()\n",
    "\n",
    "qcb = ax.bar(x=qc.Year,height=qc.Price, color='r', label='British Columbia')\n",
    "\n",
    "#Labels\n",
    "ax.set_title(\"Gas Prices Quebec between 1990 and 2020\",fontsize=15) \n",
    "ax.set_xlabel(\"Years\", fontweight='bold')\n",
    "ax.set_ylabel(\"Gas Price (Cents per L)\", fontweight='bold')\n",
    "ax.legend()\n",
    "plt.tight_layout()\n",
    "plt.show()"
   ]
  },
  {
   "cell_type": "markdown",
   "metadata": {},
   "source": [
    "#### Quebec\n",
    "- 1998: gas prices dipped\n",
    "- 2008: gas prices dipped from previous years\n",
    "- 2015 major dip, emissions 2011: 2015, stable, year after dip, (imposed env sanctions: ? 4 years before prices jumped)\n",
    "- 2016 further dip / emissions went down (not as many people buying?)\n",
    "- 2020 dip in prices overall  / emmisions went down  (pandemic, prices went down, no one driving)\n",
    "\n",
    "- Canada: Climate plans: 2015 : \n",
    "- Growing supply 2014-2016 of oil, price plumet , us market came in, slow down of exporters 70%"
   ]
  },
  {
   "cell_type": "code",
   "execution_count": null,
   "metadata": {},
   "outputs": [],
   "source": [
    "# compare to emmission in these\n",
    "- 2018 and 2019 emmisions went down"
   ]
  },
  {
   "cell_type": "code",
   "execution_count": 148,
   "metadata": {},
   "outputs": [
    {
     "data": {
      "image/png": "[encoded data removed]",
      "text/plain": [
       "<Figure size 432x288 with 1 Axes>"
      ]
     },
     "metadata": {
      "needs_background": "light"
     },
     "output_type": "display_data"
    }
   ],
   "source": [
    "# bar Quebec\n",
    "labels = [clean_data['Year'].unique()]\n",
    "\n",
    "qc = clean_data[clean_data['Province']== 'Quebec'][['Year','Price']]\n",
    "fig, ax = plt.subplots()\n",
    "\n",
    "ax.plot(qc.Year,qc.Price, color='r', label='British Columbia')\n",
    "\n",
    "#Labels\n",
    "ax.set_title(\"Gas Prices Quebec between 1990 and 2020\",fontsize=15) \n",
    "ax.set_xlabel(\"Years\", fontweight='bold')\n",
    "ax.set_ylabel(\"Gas Price (Cents per L)\", fontweight='bold')\n",
    "ax.legend()\n",
    "plt.tight_layout()\n",
    "plt.show()"
   ]
  },
  {
   "cell_type": "code",
   "execution_count": null,
   "metadata": {},
   "outputs": [],
   "source": []
  }
 ],
 "metadata": {
  "interpreter": {
   "hash": "21085dc89d88313e76db481a5a264d21c0f15066ec1a469ddd899927d031c956"
  },
  "kernelspec": {
   "display_name": "Python 3.6.13 64-bit ('PythonData': conda)",
   "name": "python3"
  },
  "language_info": {
   "codemirror_mode": {
    "name": "ipython",
    "version": 3
   },
   "file_extension": ".py",
   "mimetype": "text/x-python",
   "name": "python",
   "nbconvert_exporter": "python",
   "pygments_lexer": "ipython3",
   "version": "3.6.13"
  }
 },
 "nbformat": 4,
 "nbformat_minor": 2
}
